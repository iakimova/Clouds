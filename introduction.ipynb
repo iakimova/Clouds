{
  "nbformat": 4,
  "nbformat_minor": 0,
  "metadata": {
    "kernelspec": {
      "display_name": "Python 3",
      "language": "python",
      "name": "python3"
    },
    "language_info": {
      "codemirror_mode": {
        "name": "ipython",
        "version": 3
      },
      "file_extension": ".py",
      "mimetype": "text/x-python",
      "name": "python",
      "nbconvert_exporter": "python",
      "pygments_lexer": "ipython3",
      "version": "3.6.5"
    },
    "colab": {
      "name": "introduction-lab.ipynb",
      "provenance": [],
      "toc_visible": true
    }
  },
  "cells": [
    {
      "cell_type": "markdown",
      "metadata": {
        "id": "cHFNTW0Y_2EN"
      },
      "source": [
        "# CLOUDS Introduction lab1 \n",
        "# Student: Iakimova Iuliia "
      ]
    },
    {
      "cell_type": "markdown",
      "metadata": {
        "id": "lgC-rIIL_2Ec"
      },
      "source": [
        "# Goals of the Laboratory\n",
        "In this introductory laboratory, we expect students to:\n",
        "\n",
        "1. Acquire basic knowledge about Python and Matplotlib\n",
        "2. Gain familiarity with Juypter Notebooks\n",
        "3. Gain familiarity with the PySpark API\n",
        "\n",
        "To achieve such goals, we will go through the following steps:\n",
        "\n",
        "1. In section 1, **IPython** and **Jupyter Notebooks** are introduced to help students understand the environment used to work on projects, including those that are part of the CLOUDS course.\n",
        "\n",
        "2. In section 2, we briefly overview **Python** and its syntax. In addition, we cover **Matplotlib**, a very powerful library to plot figures in Python. Finally, we introduce **Pandas**, a python library that is very helpful when manipulating data.\n",
        "\n",
        "3. In section 3 we cover the **PySpark** APIs"
      ]
    },
    {
      "cell_type": "markdown",
      "metadata": {
        "id": "yVQ-swLt_2Ee"
      },
      "source": [
        "# 1. Python, IPython and Jupyter Notebooks\n",
        "\n",
        "**Python** is a high-level, dynamic, object-oriented programming language. It is a general purpose language, which is designed to be easy to use and easy to read.\n",
        "\n",
        "**IPython** (Interactive Python) is originally developed for Python. Now, it is a command shell for interactive computing supporting multiple programming languages. It offers rich media, shell syntax, tab completion, and history. IPython is based on an architecture that provides parallel and distributed computing. IPython enables parallel applications to be developed, executed, debugged and monitored interactively.\n",
        "\n",
        "**Jupyter Notebooks** are a web-based interactive computational environment for creating IPython notebooks. An IPython notebook is a JSON document containing an ordered list of input/output cells which can contain code, text, mathematics, plots and rich media. Notebooks make data analysis easier to perform, understand and reproduce. All laboratories in this course are prepared as Notebooks. As you can see, in this Notebook, we can put text, images, hyperlinks, source code... The Notebooks can be converted to a number of open standard output formats (HTML, HTML presentation slides, LaTeX, PDF, ReStructuredText, Markdown, Python) through `File` -> `Download As` in the web interface. In addition, Jupyter manages the notebooks' versions through a `checkpoint` mechanism. You can create checkpoint anytime via `File -> Save and Checkpoint`. \n",
        "\n",
        "**NOTE on Checkpointing:** in this course, we use a peculiar environment to work. We don't have a Notebook server: instead, we create on demand clusters with a Notebook front-end. Since your clusters are **ephemeral** (they are terminated after a predefined amount of time), checkpointing is of little use, for anything else than saving your notebook in your ephemeral environment. It is far better to download regularly your notebooks, and to push them to your git repository."
      ]
    },
    {
      "cell_type": "markdown",
      "metadata": {
        "id": "JBX83e36_2Ef"
      },
      "source": [
        "## 1.1. Tab completion\n",
        "\n",
        "Tab completion is a convenient way to explore the structure of any object you're dealing with. Simply type object_name.<TAB> to view the suggestion for object's attributes. Besides Python objects and keywords, tab completion also works on file and directory names."
      ]
    },
    {
      "cell_type": "code",
      "metadata": {
        "id": "xgv-3ac6_2Eg",
        "outputId": "8a891024-62c1-476c-d227-7f6b072f7dab"
      },
      "source": [
        "s = \"test function of tab completion\"\n",
        "\n",
        "\n",
        "\n",
        "# type s.<TAB> to see the suggestions\n",
        "\n",
        "# Show your experiments working on a string. \n",
        "# Try splitting a string into its constituent words, \n",
        "\n",
        "s.split()\n",
        "\n",
        "\n",
        "## and count the number of words.\n",
        "\n",
        "len(s.split())\n"
      ],
      "execution_count": null,
      "outputs": [
        {
          "output_type": "execute_result",
          "data": {
            "text/plain": [
              "5"
            ]
          },
          "metadata": {
            "tags": []
          },
          "execution_count": 13
        }
      ]
    },
    {
      "cell_type": "markdown",
      "metadata": {
        "id": "1fpcxu2J_2Ek"
      },
      "source": [
        "## 1.2. System shell commands\n",
        "\n",
        "To run any command in the system shell, simply prefix it with `!`. For example:"
      ]
    },
    {
      "cell_type": "code",
      "metadata": {
        "id": "viwWjoYT_2Ek",
        "outputId": "9c58545c-fe52-4af9-db8d-6b8354277278"
      },
      "source": [
        "# list all file and directories in the current folder\n",
        "!ls"
      ],
      "execution_count": null,
      "outputs": [
        {
          "output_type": "stream",
          "text": [
            "album.tsv  football.csv  introduction-lab.ipynb  README.md  song.tsv\n"
          ],
          "name": "stdout"
        }
      ]
    },
    {
      "cell_type": "markdown",
      "metadata": {
        "id": "cuwi5yhW_2El"
      },
      "source": [
        "## 1.3. Magic functions\n",
        "\n",
        "IPython has a set of predefined `magic functions` that you can call with a command line style syntax. There are two types of magics, line-oriented and cell-oriented. \n",
        "\n",
        "**Line magics** are prefixed with the `%` character and work much like OS command-line calls: they get as an argument the rest of the line, *where arguments are passed without parentheses or quotes*. \n",
        "\n",
        "**Cell magics** are prefixed with a double `%%`, and they are functions that get as an argument not only the rest of the line, but also the lines below it in a separate argument."
      ]
    },
    {
      "cell_type": "code",
      "metadata": {
        "id": "HVK423Qq_2Em",
        "outputId": "f97cb919-5a6f-47a0-a04d-0e52756c429b"
      },
      "source": [
        "%timeit range(1000)"
      ],
      "execution_count": null,
      "outputs": [
        {
          "output_type": "stream",
          "text": [
            "277 ns ± 21.9 ns per loop (mean ± std. dev. of 7 runs, 1000000 loops each)\n"
          ],
          "name": "stdout"
        }
      ]
    },
    {
      "cell_type": "code",
      "metadata": {
        "id": "IyZwWOSX_2En",
        "outputId": "a2db7cf5-2c1f-4ac2-82f2-d3b913db0880"
      },
      "source": [
        "%%timeit x = range(10000) \n",
        "max(x)"
      ],
      "execution_count": null,
      "outputs": [
        {
          "output_type": "stream",
          "text": [
            "294 µs ± 32.7 µs per loop (mean ± std. dev. of 7 runs, 1000 loops each)\n"
          ],
          "name": "stdout"
        }
      ]
    },
    {
      "cell_type": "markdown",
      "metadata": {
        "id": "J__RsPmI_2Eo"
      },
      "source": [
        "For more information, you can follow this [link](http://nbviewer.jupyter.org/github/ipython/ipython/blob/1.x/examples/notebooks/Cell%20Magics.ipynb)"
      ]
    },
    {
      "cell_type": "markdown",
      "metadata": {
        "id": "V7KuUSoA_2Ep"
      },
      "source": [
        "## 1.4. Debugging\n",
        "\n",
        "Whenever an exception occurs, the call stack is printed out to help you to track down the true source of the problem. It is important to gain familiarity with the call stack, especially when using the PySpark API."
      ]
    },
    {
      "cell_type": "code",
      "metadata": {
        "id": "ZP_YfehJ_2Eq",
        "outputId": "c9380a44-6c2d-4a23-f420-588194466859"
      },
      "source": [
        "for i in [4,3,2,0]:\n",
        "    print(5/i) # The error is normal because we divide by 0"
      ],
      "execution_count": null,
      "outputs": [
        {
          "output_type": "stream",
          "text": [
            "1.25\n",
            "1.6666666666666667\n",
            "2.5\n"
          ],
          "name": "stdout"
        },
        {
          "output_type": "error",
          "ename": "ZeroDivisionError",
          "evalue": "division by zero",
          "traceback": [
            "\u001b[0;31m---------------------------------------------------------------------------\u001b[0m",
            "\u001b[0;31mZeroDivisionError\u001b[0m                         Traceback (most recent call last)",
            "\u001b[0;32m<ipython-input-33-d6500a3f66d3>\u001b[0m in \u001b[0;36m<module>\u001b[0;34m()\u001b[0m\n\u001b[1;32m      1\u001b[0m \u001b[0;32mfor\u001b[0m \u001b[0mi\u001b[0m \u001b[0;32min\u001b[0m \u001b[0;34m[\u001b[0m\u001b[0;36m4\u001b[0m\u001b[0;34m,\u001b[0m\u001b[0;36m3\u001b[0m\u001b[0;34m,\u001b[0m\u001b[0;36m2\u001b[0m\u001b[0;34m,\u001b[0m\u001b[0;36m0\u001b[0m\u001b[0;34m]\u001b[0m\u001b[0;34m:\u001b[0m\u001b[0;34m\u001b[0m\u001b[0m\n\u001b[0;32m----> 2\u001b[0;31m     \u001b[0mprint\u001b[0m\u001b[0;34m(\u001b[0m\u001b[0;36m5\u001b[0m\u001b[0;34m/\u001b[0m\u001b[0mi\u001b[0m\u001b[0;34m)\u001b[0m \u001b[0;31m# The error is normal because we divide by 0\u001b[0m\u001b[0;34m\u001b[0m\u001b[0m\n\u001b[0m",
            "\u001b[0;31mZeroDivisionError\u001b[0m: division by zero"
          ]
        }
      ]
    },
    {
      "cell_type": "markdown",
      "metadata": {
        "id": "lBbt-mn5_2Eq"
      },
      "source": [
        "## 1.5. Additional features\n",
        "\n",
        "Jupyter also supports viewing the status of the cluster and interact with the real shell environment.\n",
        "\n",
        "To do that, you can click on the Logo Jupyter in the up-left corner of each notebook to go to the dashboard:\n",
        "\n",
        "<img src=\"https://farm2.staticflickr.com/1488/24681339931_733acb3494_b.jpg\" width=\"600px\" />\n",
        "\n",
        "You can easily find out how to use these features, so you're invited to play around!!"
      ]
    },
    {
      "cell_type": "markdown",
      "metadata": {
        "id": "QqN8bIms_2Er"
      },
      "source": [
        "# 2. Python + Pandas + Matplotlib: A great environment for Data Science\n",
        "\n",
        "This section aims to help students gain a basic understanding of the python programming language and some of its libraries, including `Pandas` or `Matplotlib`. \n",
        "\n",
        "When working with a small dataset (one that can comfortably fit into a single machine), Pandas and Matplotlib, together with Python are valid alternatives to other popular tools such as R and Matlab. Using such libraries allows to inherit from the simple and clear Python syntax, achieve very good performance, enjoy superior memory management,  error handling, and good package management \\[[1](http://ajminich.com/2013/06/22/9-reasons-to-switch-from-matlab-to-python/)\\].\n",
        "\n",
        "\n",
        "## 2.1. Python syntax\n",
        "\n",
        "(This section is for students who did not program in Python before. If you're familiar with Python, please move to the next section: 1.2. Numpy)\n",
        "\n",
        "When working with Python, the code seems to be simpler than (many) other languages. In this laboratory, we compare the Python syntax to that of Java - another very common language.\n",
        "\n",
        "```java\n",
        "// java syntax\n",
        "int i = 10;\n",
        "string s = \"advanced machine learning\";\n",
        "System.out.println(i);\n",
        "System.out.println(s);\n",
        "// you must not forget the semicolon at the end of each sentence\n",
        "```"
      ]
    },
    {
      "cell_type": "code",
      "metadata": {
        "id": "2MOHfxaU_2Es",
        "outputId": "6b31e0d8-42c5-4cb7-e391-335960b692e6"
      },
      "source": [
        "# python syntax\n",
        "i = 10\n",
        "s = \"advanced machine learning\"\n",
        "print(i)\n",
        "print(s)\n",
        "# forget about the obligation of commas"
      ],
      "execution_count": null,
      "outputs": [
        {
          "output_type": "stream",
          "text": [
            "10\n",
            "advanced machine learning\n"
          ],
          "name": "stdout"
        }
      ]
    },
    {
      "cell_type": "markdown",
      "metadata": {
        "id": "z2gxsDKn_2Eu"
      },
      "source": [
        "### Indentation & If-else syntax\n",
        "In python, we don't use `{` and `}` to define blocks of codes: instead, we use indentation to do that. **The code within the same block must have the same indentation**. For example, in java, we write:\n",
        "```java\n",
        "string language = \"Python\";\n",
        "\n",
        "// the block is surrounded by { and }\n",
        "// the condition is in ( and )\n",
        "if (language == \"Python\") {\n",
        "    int x = 1;\n",
        "    x += 10;\n",
        "       int y = 5; // a wrong indentation isn't problem\n",
        "    y = x + y;\n",
        "    System.out.println(x + y);\n",
        "    \n",
        "    // a statement is broken into two line\n",
        "    x = y\n",
        "        + y;\n",
        "    \n",
        "    // do some stuffs\n",
        "}\n",
        "else if (language == \"Java\") {\n",
        "    // another block\n",
        "}\n",
        "else {\n",
        "    // another block\n",
        "}\n",
        "```"
      ]
    },
    {
      "cell_type": "code",
      "metadata": {
        "id": "t6zPkl-j_2Eu",
        "outputId": "7b51bb94-db51-4cc0-eed8-818292f65e5a"
      },
      "source": [
        "language = \"Python\"\n",
        "if language == \"Python\":\n",
        "    x = 10\n",
        "    x += 10\n",
        "    y = 5 # all statements in the same block must have the same indentation\n",
        "    y = (\n",
        "        x + y\n",
        "    ) # statements can be on multiple lines, using ( )\n",
        "    print (x \n",
        "           + y)\n",
        "    \n",
        "    # statements can also be split on multiple lines by using \\ at the END of each line\n",
        "    x = y \\\n",
        "        + y\n",
        "    \n",
        "    # do some other stuffs\n",
        "elif language == \"Java\":\n",
        "    # another block\n",
        "    pass\n",
        "else:\n",
        "    # another block\n",
        "    pass"
      ],
      "execution_count": null,
      "outputs": [
        {
          "output_type": "stream",
          "text": [
            "45\n"
          ],
          "name": "stdout"
        }
      ]
    },
    {
      "cell_type": "markdown",
      "metadata": {
        "id": "N6ijQE1-_2Ev"
      },
      "source": [
        "### Ternary conditional operator\n",
        "In python, we often see ternary conditional operator, which is used to assign a value to a variable based on some condition. For example, in java, we write:\n",
        "\n",
        "```java\n",
        "int x = 10;\n",
        "// if x > 10, assign y = 5, otherwise, y = 15\n",
        "int y = (x > 10) ? 5 : 15;\n",
        "\n",
        "int z;\n",
        "if (x > 10)\n",
        "    z = 5; // it's not necessary to have { } when the block has only one statement\n",
        "else\n",
        "    z = 15;\n",
        "```\n",
        "\n",
        "Of course, although we can easily write these lines of code in an `if else` block to get the same result, people prefer ternary conditional operator because of simplicity.\n",
        "\n",
        "In python, we write:"
      ]
    },
    {
      "cell_type": "code",
      "metadata": {
        "id": "cNp-LuQM_2Ew",
        "outputId": "8da322f3-153b-4d1d-b075-a751f9cea517"
      },
      "source": [
        "x = 10\n",
        "# a very natural way\n",
        "y = 5 if x > 10 else 15\n",
        "print(y)\n",
        "\n",
        "# another way\n",
        "y = x > 10 and 5 or 15\n",
        "print(y)"
      ],
      "execution_count": null,
      "outputs": [
        {
          "output_type": "stream",
          "text": [
            "15\n",
            "15\n"
          ],
          "name": "stdout"
        }
      ]
    },
    {
      "cell_type": "markdown",
      "metadata": {
        "id": "BKPDXY_A_2Ex"
      },
      "source": [
        "### Lists and For loops\n",
        "Another syntax that we should revisit is the `for loop`. In java, we can write:\n",
        "\n",
        "```java\n",
        "// init an array with 10 integer numbers\n",
        "int[] array = new int[]{1, 2, 3, 4, 5, 6, 7, 8, 9, 10};\n",
        "for (int i = 0; i < array.length; i++){\n",
        "    // print the i-th element of array\n",
        "    System.out.println(array[i]);\n",
        "}\n",
        "```\n",
        "\n",
        "In Python, instead of using an index to help indicating an element, we can access the element directly:"
      ]
    },
    {
      "cell_type": "code",
      "metadata": {
        "id": "bIglYzrb_2Ex",
        "outputId": "d1cbfa74-f142-4c2f-c9ad-e7bf137450b8"
      },
      "source": [
        "array = [1, 2, 3, 4, 5, 6, 7, 8, 9, 10]\n",
        "# Python has no built-in array data structure\n",
        "# instead, it uses \"list\" which is much more general \n",
        "# and can be used as a multidimensional array quite easily.\n",
        "for element in array:\n",
        "    print(element)"
      ],
      "execution_count": null,
      "outputs": [
        {
          "output_type": "stream",
          "text": [
            "1\n",
            "2\n",
            "3\n",
            "4\n",
            "5\n",
            "6\n",
            "7\n",
            "8\n",
            "9\n",
            "10\n"
          ],
          "name": "stdout"
        }
      ]
    },
    {
      "cell_type": "markdown",
      "metadata": {
        "id": "rrUDZ2WT_2Ez"
      },
      "source": [
        "As we can see, the code is very clean. If you need the index of each element, here's what you should do:"
      ]
    },
    {
      "cell_type": "code",
      "metadata": {
        "id": "mpMr00VB_2Ez",
        "outputId": "0adcd1ac-355b-4c64-85ea-f5937550e694"
      },
      "source": [
        "for (index, element) in enumerate(array):\n",
        "    print(index, element)"
      ],
      "execution_count": null,
      "outputs": [
        {
          "output_type": "stream",
          "text": [
            "0 1\n",
            "1 2\n",
            "2 3\n",
            "3 4\n",
            "4 5\n",
            "5 6\n",
            "6 7\n",
            "7 8\n",
            "8 9\n",
            "9 10\n"
          ],
          "name": "stdout"
        }
      ]
    },
    {
      "cell_type": "markdown",
      "metadata": {
        "id": "v7s3rPu__2Ez"
      },
      "source": [
        "Actually, Python has no built-in array data structure. It uses the `list` data structure, which is much more general and can be used as a multidimensional array quite easily. In addition, elements in a list can be retrieved in a very concise way. For example, we create a 2d-array with 4 rows. Each row has 3 elements."
      ]
    },
    {
      "cell_type": "code",
      "metadata": {
        "id": "M5Uv6ZsO_2E0",
        "outputId": "8cbf5b57-b82d-426c-c140-92ffac0aa975"
      },
      "source": [
        "# 2-dimentions array with 4 rows, 3 columns\n",
        "twod_array = [[1, 2, 3], [4, 5, 6], [7, 8, 9], [10, 11, 12]]\n",
        "for index, row in enumerate(twod_array):\n",
        "    print(\"row \", index, \":\", row)\n",
        "\n",
        "# print row 1 until row 3\n",
        "print(\"row 1 until row 3: \", twod_array[1:3])\n",
        "\n",
        "# all rows from row 2\n",
        "print(\"all rows from row 2: \", twod_array[2:])\n",
        "\n",
        "# all rows until row 2\n",
        "print(\"all rows until row 2:\", twod_array[:2])\n",
        "\n",
        "# all rows from the beginning with step of 2. \n",
        "print(\"all rows from the beginning with step of 2:\", twod_array[::2])"
      ],
      "execution_count": null,
      "outputs": [
        {
          "output_type": "stream",
          "text": [
            "row  0 : [1, 2, 3]\n",
            "row  1 : [4, 5, 6]\n",
            "row  2 : [7, 8, 9]\n",
            "row  3 : [10, 11, 12]\n",
            "row 1 until row 3:  [[4, 5, 6], [7, 8, 9]]\n",
            "all rows from row 2:  [[7, 8, 9], [10, 11, 12]]\n",
            "all rows until row 2: [[1, 2, 3], [4, 5, 6]]\n",
            "all rows from the beginning with step of 2: [[1, 2, 3], [7, 8, 9]]\n"
          ],
          "name": "stdout"
        }
      ]
    },
    {
      "cell_type": "markdown",
      "metadata": {
        "id": "NjOaFQxP_2E0"
      },
      "source": [
        "### Dictionaries\n",
        "Another useful data structure in Python is a `dictionary`, which we use to store (key, value) pairs. Here's some example usage of dictionaries:"
      ]
    },
    {
      "cell_type": "code",
      "metadata": {
        "id": "2EorPtyb_2E1",
        "outputId": "fe5b4ec8-a8a4-451c-fbbc-4c90495c246a"
      },
      "source": [
        "d = {'key1': 'value1', 'key2': 'value2'}  # Create a new dictionary with some data\n",
        "print(d['key1'])       # Get an entry from a dictionary; prints \"value1\"\n",
        "print('key1' in d)     # Check if a dictionary has a given key; prints \"True\"\n",
        "d['key3'] = 'value3'    # Set an entry in a dictionary\n",
        "print(d['key3'])      # Prints \"value3\"\n",
        "# print(d['key9'])  # KeyError: 'key9' not a key of d\n",
        "print(d.get('key9', 'custom_default_value'))  # Get an element with a default; prints \"custom_default_value\"\n",
        "print(d.get('key3', 'custom_default_value'))    # Get an element with a default; prints \"value3\"\n",
        "del d['key3']        # Remove an element from a dictionary\n",
        "print(d.get('key3', 'custom_default_value')) # \"fish\" is no longer a key; prints \"custom_default_value\"\n"
      ],
      "execution_count": null,
      "outputs": [
        {
          "output_type": "stream",
          "text": [
            "value1\n",
            "True\n",
            "value3\n",
            "custom_default_value\n",
            "value3\n",
            "custom_default_value\n"
          ],
          "name": "stdout"
        }
      ]
    },
    {
      "cell_type": "markdown",
      "metadata": {
        "id": "QEoEOZDe_2E1"
      },
      "source": [
        "### Functions\n",
        "In Python, we can define a function by using keyword `def`."
      ]
    },
    {
      "cell_type": "code",
      "metadata": {
        "id": "Gcg5ZnDe_2E2",
        "outputId": "4040c2a6-bcb1-49f1-fb81-bb8c4c1c27ec"
      },
      "source": [
        "def square(x):\n",
        "    return x*x\n",
        "\n",
        "print(square(5))"
      ],
      "execution_count": null,
      "outputs": [
        {
          "output_type": "stream",
          "text": [
            "25\n"
          ],
          "name": "stdout"
        }
      ]
    },
    {
      "cell_type": "markdown",
      "metadata": {
        "id": "U5sAkcsb_2E2"
      },
      "source": [
        "You can apply a function to each element of a list/array by using `lambda` function. For example, we want to square elements in a list:"
      ]
    },
    {
      "cell_type": "code",
      "metadata": {
        "id": "l4VqjL-3_2E3",
        "outputId": "006926e0-ba61-4ae0-cb4f-f4736098b838"
      },
      "source": [
        "array = [1, 2, 3, 4, 5, 6, 7, 8, 9, 10]\n",
        "\n",
        "# apply function \"square\" on each element of \"array\"\n",
        "print(list(map(lambda x: square(x), array)))\n",
        "\n",
        "# or using a for loop, and a list comprehension\n",
        "print([square(x) for x in array])\n",
        "\n",
        "print(\"orignal array:\", array)"
      ],
      "execution_count": null,
      "outputs": [
        {
          "output_type": "stream",
          "text": [
            "[1, 4, 9, 16, 25, 36, 49, 64, 81, 100]\n",
            "[1, 4, 9, 16, 25, 36, 49, 64, 81, 100]\n",
            "orignal array: [1, 2, 3, 4, 5, 6, 7, 8, 9, 10]\n"
          ],
          "name": "stdout"
        }
      ]
    },
    {
      "cell_type": "markdown",
      "metadata": {
        "id": "Sv-RY0AY_2E3"
      },
      "source": [
        "These two above syntaxes are used very often. \n",
        "\n",
        "If you are not familiar with **list comprehensions**, follow this [link](http://python-3-patterns-idioms-test.readthedocs.io/en/latest/Comprehensions.html]).\n",
        "\n",
        "We can also put a function `B` inside a function `A` (that is, we can have nested functions). In that case, function `B` is only accessed inside function `A` (the scope that it's declared). For example:"
      ]
    },
    {
      "cell_type": "code",
      "metadata": {
        "id": "4r6l21cW_2E3",
        "outputId": "d4ce54fc-0fd9-49fe-f386-cc140580bab3"
      },
      "source": [
        "# select only the prime number in array\n",
        "# and square them\n",
        "def filterAndSquarePrime(arr):\n",
        "    \n",
        "    # a very simple function to check a number is prime or not\n",
        "    def checkPrime(number):\n",
        "        for i in range(2, int(number/2)):\n",
        "            if number % i == 0:\n",
        "                return False\n",
        "        return True\n",
        "    \n",
        "    primeNumbers = filter(lambda x: checkPrime(x), arr)\n",
        "    return map(lambda x: square(x), primeNumbers)\n",
        "\n",
        "# we can not access checkPrime from here\n",
        "# checkPrime(5)\n",
        "\n",
        "result = filterAndSquarePrime(array)\n",
        "list(result)"
      ],
      "execution_count": null,
      "outputs": [
        {
          "output_type": "execute_result",
          "data": {
            "text/plain": [
              "[1, 4, 9, 16, 25, 49]"
            ]
          },
          "metadata": {
            "tags": []
          },
          "execution_count": 27
        }
      ]
    },
    {
      "cell_type": "markdown",
      "metadata": {
        "id": "ubNJBeRq_2E4"
      },
      "source": [
        "### Importing modules, functions\n",
        "Modules in Python are packages of code. Putting code into modules helps increasing the reusability and maintainability.\n",
        "The modules can be nested.\n",
        "To import a module, we simple use syntax: `import <module_name>`. Once it is imported, we can use any functions, classes inside it."
      ]
    },
    {
      "cell_type": "code",
      "metadata": {
        "id": "wyhCM3vY_2E4",
        "outputId": "9eb6487e-ff53-46a8-bdcd-508e52e07502"
      },
      "source": [
        "# import module 'math' to uses functions for calculating\n",
        "import math\n",
        "\n",
        "# print the square root of 16\n",
        "print(math.sqrt(16))\n",
        "\n",
        "# we can create alias when import a module\n",
        "import numpy as np\n",
        "\n",
        "print(np.sqrt(16))"
      ],
      "execution_count": null,
      "outputs": [
        {
          "output_type": "stream",
          "text": [
            "4.0\n",
            "4.0\n"
          ],
          "name": "stdout"
        }
      ]
    },
    {
      "cell_type": "markdown",
      "metadata": {
        "id": "YFgAOEhT_2E5"
      },
      "source": [
        "Sometimes, you only need to import some functions inside a module to avoid loading the whole module into memory. To do that, we can use syntax: `from <module> import <function>`"
      ]
    },
    {
      "cell_type": "code",
      "metadata": {
        "id": "4qm7P1uS_2E5",
        "outputId": "0cfcc955-0f9a-4013-fd8f-671d0c7ac924"
      },
      "source": [
        "# only import function 'sin' in package 'math'\n",
        "from math import sin\n",
        "\n",
        "# use the function\n",
        "print(sin(60))"
      ],
      "execution_count": null,
      "outputs": [
        {
          "output_type": "stream",
          "text": [
            "-0.3048106211022167\n"
          ],
          "name": "stdout"
        }
      ]
    },
    {
      "cell_type": "markdown",
      "metadata": {
        "id": "2qjxgcn8_2E6"
      },
      "source": [
        "That's quite enough for Python. Now, let's practice a little bit."
      ]
    },
    {
      "cell_type": "markdown",
      "metadata": {
        "id": "guwZs3X4_2E6"
      },
      "source": [
        "### Question 1\n",
        "#### Question 1.1\n",
        "<div class=\"alert alert-info\">\n",
        "Write a function `checkSquareNumber` to check if a integer number is a square number or not. For example, 16 and 9 are square numbers. 15 isn't square number.\n",
        "Requirements:\n",
        "\n",
        "- Input: an integer number\n",
        "\n",
        "- Output: `True` or `False`\n",
        "\n",
        "HINT: If the square root of a number is an integer number, it is a square number.\n",
        "</div>"
      ]
    },
    {
      "cell_type": "code",
      "metadata": {
        "id": "zLGvWCuR_2E6",
        "outputId": "b346c99b-862a-4b33-c44e-2252683b8f22"
      },
      "source": [
        "### Answer:\n",
        "import math\n",
        "\n",
        "def checkSquareNumber(x):\n",
        "    # calculate the square root of x\n",
        "    # return True if square root is integer, \n",
        "    # otherwise, return False\n",
        "    find = False\n",
        "    for i in range(x//2): ## We try to find a square for the number x, given sqrt(x) <= x/2\n",
        "        if i*i == x:\n",
        "            find = True\n",
        "    return find\n",
        "if checkSquareNumber(16):\n",
        "    print(\"True\")\n",
        "else:\n",
        "    print(\"False\")\n",
        "#print(checkSquareNumber(250))\n"
      ],
      "execution_count": null,
      "outputs": [
        {
          "output_type": "stream",
          "text": [
            "True\n"
          ],
          "name": "stdout"
        }
      ]
    },
    {
      "cell_type": "markdown",
      "metadata": {
        "id": "YSeFLW-6_2E7"
      },
      "source": [
        "#### Question 1.2\n",
        "<div class=\"alert alert-info\">\n",
        "A list `list_numbers` which contains the numbers from 1 to 9999 can be constructed from: \n",
        "\n",
        "```python\n",
        "list_numbers = range(0, 10000)\n",
        "```\n",
        "\n",
        "Extract the square numbers in `list_numbers` using function `checkSquareNumber` from question 1.1. How many elements in the extracted list ?\n",
        "</div>"
      ]
    },
    {
      "cell_type": "code",
      "metadata": {
        "id": "co5IKfFK_2E7",
        "outputId": "08aaece6-a366-4e6c-dbe1-3c8d5569751c"
      },
      "source": [
        "\n",
        "list_numbers = range(0, 10000)\n",
        "square_numbers = [ x for x in list_numbers  if checkSquareNumber(x) ] # try to use the filter method\n",
        "print(square_numbers)\n",
        "print(len(square_numbers))\n"
      ],
      "execution_count": null,
      "outputs": [
        {
          "output_type": "stream",
          "text": [
            "[9, 16, 25, 36, 49, 64, 81, 100, 121, 144, 169, 196, 225, 256, 289, 324, 361, 400, 441, 484, 529, 576, 625, 676, 729, 784, 841, 900, 961, 1024, 1089, 1156, 1225, 1296, 1369, 1444, 1521, 1600, 1681, 1764, 1849, 1936, 2025, 2116, 2209, 2304, 2401, 2500, 2601, 2704, 2809, 2916, 3025, 3136, 3249, 3364, 3481, 3600, 3721, 3844, 3969, 4096, 4225, 4356, 4489, 4624, 4761, 4900, 5041, 5184, 5329, 5476, 5625, 5776, 5929, 6084, 6241, 6400, 6561, 6724, 6889, 7056, 7225, 7396, 7569, 7744, 7921, 8100, 8281, 8464, 8649, 8836, 9025, 9216, 9409, 9604, 9801]\n",
            "97\n"
          ],
          "name": "stdout"
        }
      ]
    },
    {
      "cell_type": "markdown",
      "metadata": {
        "id": "57cjGB-O_2E7"
      },
      "source": [
        "#### Question 1.3\n",
        "<div class=\"alert alert-info\">\n",
        "Using array slicing, select the elements of the list square_numbers, whose index is from 5 to 20 (zero-based index).\n",
        "</div>"
      ]
    },
    {
      "cell_type": "code",
      "metadata": {
        "id": "j5uXsmkw_2E8",
        "outputId": "1e796b75-d82e-40d3-b4ad-fdf743839b74"
      },
      "source": [
        "\n",
        "print(square_numbers[5:21])\n"
      ],
      "execution_count": null,
      "outputs": [
        {
          "output_type": "stream",
          "text": [
            "[64, 81, 100, 121, 144, 169, 196, 225, 256, 289, 324, 361, 400, 441, 484, 529]\n"
          ],
          "name": "stdout"
        }
      ]
    },
    {
      "cell_type": "markdown",
      "metadata": {
        "id": "3_rlzYtH_2E8"
      },
      "source": [
        "Next, we will take a quick look on Numpy - a powerful module of Python."
      ]
    },
    {
      "cell_type": "markdown",
      "metadata": {
        "id": "UrymyuOQ_2E8"
      },
      "source": [
        "## 2.2. Numpy\n",
        "Numpy is the core library for scientific computing in Python. It provides a high-performance multidimensional array object, and tools for working with these arrays.\n",
        "### 2.2.1. Array\n",
        "A numpy array is a grid of values, all of **the same type**, and is indexed by a tuple of nonnegative integers. Thanks to the same type property, Numpy has the benefits of [locality of reference](https://en.wikipedia.org/wiki/Locality_of_reference). Besides, many other Numpy operations are implemented in C, avoiding the general cost of loops in Python, pointer indirection and per-element dynamic type checking. So, the speed of Numpy is often faster than using built-in datastructure of Python. When working with massive data with computationally expensive tasks, you should consider to use Numpy. \n",
        "\n",
        "The number of dimensions is the `rank` of the array; the `shape` of an array is a tuple of integers giving the size of the array along each dimension.\n",
        "\n",
        "We can initialize numpy arrays from nested Python lists, and access elements using square brackets:"
      ]
    },
    {
      "cell_type": "code",
      "metadata": {
        "id": "G8_BdThP_2E9",
        "outputId": "cff392e7-b536-46e1-acbc-95b333d5c1ce"
      },
      "source": [
        "import numpy as np\n",
        "\n",
        "# Create a rank 1 array\n",
        "rank1_array = np.array([1, 2, 3])\n",
        "print(\"type of rank1_array:\", type(rank1_array))\n",
        "print(\"shape of rank1_array:\", rank1_array.shape)\n",
        "print(\"elements in rank1_array:\", rank1_array[0], rank1_array[1], rank1_array[2])\n",
        "\n",
        "# Create a rank 2 array\n",
        "rank2_array = np.array([[1,2,3],[4,5,6]])\n",
        "print(\"shape of rank2_array:\", rank2_array.shape)\n",
        "print(rank2_array[0, 0], rank2_array[0, 1], rank2_array[1, 0])"
      ],
      "execution_count": null,
      "outputs": [
        {
          "output_type": "stream",
          "text": [
            "type of rank1_array: <class 'numpy.ndarray'>\n",
            "shape of rank1_array: (3,)\n",
            "elements in rank1_array: 1 2 3\n",
            "shape of rank2_array: (2, 3)\n",
            "1 2 4\n"
          ],
          "name": "stdout"
        }
      ]
    },
    {
      "cell_type": "markdown",
      "metadata": {
        "id": "L1b841MT_2E9"
      },
      "source": [
        "### 2.2.2. Array slicing\n",
        "Similar to Python lists, numpy arrays can be sliced. The different thing is that you must specify a slice for each dimension of the array because arrays may be multidimensional."
      ]
    },
    {
      "cell_type": "code",
      "metadata": {
        "id": "7uS_CIRV_2E-",
        "outputId": "797bdee4-a351-48a8-a380-7cd184fc5f4e"
      },
      "source": [
        "m_array = np.array([[1,2,3,4], [5,6,7,8], [9,10,11,12]])\n",
        "\n",
        "# Use slicing to pull out the subarray consisting of the first 2 rows\n",
        "# and columns 1 and 2\n",
        "b = m_array[:2, 1:3]\n",
        "print(b)\n",
        "\n",
        "# we can only use this syntax with numpy array, not python list\n",
        "print(\"value at row 0, column 1:\", m_array[0, 1])\n",
        "\n",
        "# Rank 1 view of the second row of m_array  \n",
        "print(\"the second row of m_array:\", m_array[1, :])\n",
        "\n",
        "# print element at position (0,2) and (1,3)\n",
        "print(m_array[[0,1], [2,3]])"
      ],
      "execution_count": null,
      "outputs": [
        {
          "output_type": "stream",
          "text": [
            "[[2 3]\n",
            " [6 7]]\n",
            "value at row 0, column 1: 2\n",
            "the second row of m_array: [5 6 7 8]\n",
            "[3 8]\n"
          ],
          "name": "stdout"
        }
      ]
    },
    {
      "cell_type": "markdown",
      "metadata": {
        "id": "X2QVnz9T_2E-"
      },
      "source": [
        "### 2.2.3. Boolean array indexing\n",
        "We can use boolean array indexing to check whether each element in the array satisfies a condition or use it to do filtering."
      ]
    },
    {
      "cell_type": "code",
      "metadata": {
        "id": "ndFnQc_p_2E-",
        "outputId": "05f14e70-0ded-42f5-ad56-a4e8209ef5c2"
      },
      "source": [
        "m_array = np.array([[1,2,3,4], [5,6,7,8], [9,10,11,12]])\n",
        "\n",
        "# Find the elements of a that are bigger than 2\n",
        "# this returns a numpy array of Booleans of the same\n",
        "# shape as m_array, where each value of bool_idx tells\n",
        "# whether that element of a is > 3 or not\n",
        "bool_idx = (m_array > 3)\n",
        "print(bool_idx , \"\\n\")\n",
        "\n",
        "# We use boolean array indexing to construct a rank 1 array\n",
        "# consisting of the elements of a corresponding to the True values\n",
        "# of bool_idx\n",
        "print(m_array[bool_idx], \"\\n\")\n",
        "\n",
        "# We can combine two statements\n",
        "print(m_array[m_array > 3], \"\\n\")\n",
        "\n",
        "# select elements with multiple conditions\n",
        "print(m_array[(m_array > 3) & (m_array % 2 == 0)])\n"
      ],
      "execution_count": null,
      "outputs": [
        {
          "output_type": "stream",
          "text": [
            "[[False False False  True]\n",
            " [ True  True  True  True]\n",
            " [ True  True  True  True]] \n",
            "\n",
            "[ 4  5  6  7  8  9 10 11 12] \n",
            "\n",
            "[ 4  5  6  7  8  9 10 11 12] \n",
            "\n",
            "[ 4  6  8 10 12]\n"
          ],
          "name": "stdout"
        }
      ]
    },
    {
      "cell_type": "markdown",
      "metadata": {
        "id": "PwA9Ey0-_2E_"
      },
      "source": [
        "### 2.2.4. Datatypes\n",
        "Remember that the elements in a numpy array have the same type. When constructing arrays, Numpy tries to guess a datatype when you create an array However, we can specify the datatype explicitly via an optional argument."
      ]
    },
    {
      "cell_type": "code",
      "metadata": {
        "id": "GMGQymoi_2E_",
        "outputId": "370c9785-fe0f-4443-eca9-98ffca23ae4d"
      },
      "source": [
        "# let Numpy guess the datatype\n",
        "x1 = np.array([1, 2])\n",
        "print(x1.dtype)\n",
        "\n",
        "# force the datatype be float64\n",
        "x2 = np.array([1, 2], dtype=np.float64)\n",
        "print(x2.dtype)"
      ],
      "execution_count": null,
      "outputs": [
        {
          "output_type": "stream",
          "text": [
            "int64\n",
            "float64\n"
          ],
          "name": "stdout"
        }
      ]
    },
    {
      "cell_type": "markdown",
      "metadata": {
        "id": "H9FdqEka_2FA"
      },
      "source": [
        "### 2.2.5. Array math\n",
        "Similar to Matlab or R, in Numpy, basic mathematical functions operate elementwise on arrays, and are available both as operator overloads and as functions in the numpy module."
      ]
    },
    {
      "cell_type": "code",
      "metadata": {
        "id": "s1h_9mZ9_2FA",
        "outputId": "8ba12797-0331-4a71-c17e-3b6026fef992"
      },
      "source": [
        "x = np.array([[1,2],[3,4]], dtype=np.float64)\n",
        "y = np.array([[5,6],[7,8]], dtype=np.float64)\n",
        "# mathematical function is used as operator\n",
        "print(\"x + y =\", x + y, \"\\n\")\n",
        "\n",
        "# mathematical function is used as function\n",
        "print(\"np.add(x, y)=\", np.add(x, y), \"\\n\")\n",
        "\n",
        "# Unlike MATLAB, * is elementwise multiplication\n",
        "# not matrix multiplication\n",
        "print(\"x * y =\", x * y , \"\\n\")\n",
        "print(\"np.multiply(x, y)=\", np.multiply(x, y), \"\\n\")\n",
        "print(\"x*2=\", x*2, \"\\n\")\n",
        "\n",
        "# to multiply two matrices, we use dot function\n",
        "print(\"x.dot(y)=\", x.dot(y), \"\\n\")\n",
        "print(\"np.dot(x, y)=\", np.dot(x, y), \"\\n\")\n",
        "\n",
        "# Elementwise square root\n",
        "print(\"np.sqrt(x)=\", np.sqrt(x), \"\\n\")"
      ],
      "execution_count": null,
      "outputs": [
        {
          "output_type": "stream",
          "text": [
            "x + y = [[  6.   8.]\n",
            " [ 10.  12.]] \n",
            "\n",
            "np.add(x, y)= [[  6.   8.]\n",
            " [ 10.  12.]] \n",
            "\n",
            "x * y = [[  5.  12.]\n",
            " [ 21.  32.]] \n",
            "\n",
            "np.multiply(x, y)= [[  5.  12.]\n",
            " [ 21.  32.]] \n",
            "\n",
            "x*2= [[ 2.  4.]\n",
            " [ 6.  8.]] \n",
            "\n",
            "x.dot(y)= [[ 19.  22.]\n",
            " [ 43.  50.]] \n",
            "\n",
            "np.dot(x, y)= [[ 19.  22.]\n",
            " [ 43.  50.]] \n",
            "\n",
            "np.sqrt(x)= [[ 1.          1.41421356]\n",
            " [ 1.73205081  2.        ]] \n",
            "\n"
          ],
          "name": "stdout"
        }
      ]
    },
    {
      "cell_type": "markdown",
      "metadata": {
        "id": "JmGlPY95_2FA"
      },
      "source": [
        "Note that unlike MATLAB, `*` is elementwise multiplication, not matrix multiplication. We instead use the `dot` function to compute inner products of vectors, to multiply a vector by a matrix, and to multiply matrices. In what follows, we work on a few more examples to reiterate the concept."
      ]
    },
    {
      "cell_type": "code",
      "metadata": {
        "id": "Na47B4VA_2FB",
        "outputId": "96fac0c7-c140-49fb-a0a0-54c483b16c83"
      },
      "source": [
        "# declare two vectors\n",
        "v = np.array([9,10])\n",
        "w = np.array([11, 12])\n",
        "\n",
        "# Inner product of vectors\n",
        "print(\"v.dot(w)=\", v.dot(w))\n",
        "print(\"np.dot(v, w)=\", np.dot(v, w))\n",
        "\n",
        "# Matrix / vector product\n",
        "print(\"x.dot(v)=\", x.dot(v))\n",
        "print(\"np.dot(x, v)=\", np.dot(x, v))\n",
        "\n",
        "# Matrix / matrix product\n",
        "print(\"x.dot(y)=\", x.dot(y))\n",
        "print(\"np.dot(x, y)=\", np.dot(x, y))"
      ],
      "execution_count": null,
      "outputs": [
        {
          "output_type": "stream",
          "text": [
            "v.dot(w)= 219\n",
            "np.dot(v, w)= 219\n",
            "x.dot(v)= [ 29.  67.]\n",
            "np.dot(x, v)= [ 29.  67.]\n",
            "x.dot(y)= [[ 19.  22.]\n",
            " [ 43.  50.]]\n",
            "np.dot(x, y)= [[ 19.  22.]\n",
            " [ 43.  50.]]\n"
          ],
          "name": "stdout"
        }
      ]
    },
    {
      "cell_type": "markdown",
      "metadata": {
        "id": "_c4pSb5v_2FB"
      },
      "source": [
        "Additionally, we can do other aggregation computations on arrays such as `sum`, `nansum`, or `T`."
      ]
    },
    {
      "cell_type": "code",
      "metadata": {
        "id": "H2z9tw_d_2FC",
        "outputId": "9211007a-2651-4542-afb2-1219fbb61380"
      },
      "source": [
        "x = np.array([[1,2], [3,4]])\n",
        "\n",
        "# Compute sum of all elements\n",
        "print(np.sum(x))\n",
        "\n",
        "# Compute sum of each column\n",
        "print(np.sum(x, axis=0))\n",
        "\n",
        "# Compute sum of each row\n",
        "print(np.sum(x, axis=1))\n",
        "\n",
        "# transpose the matrix\n",
        "print(x.T)\n",
        "\n",
        "# Note that taking the transpose of a rank 1 array does nothing:\n",
        "v = np.array([1,2,3])\n",
        "print(v.T)  # Prints \"[1 2 3]\""
      ],
      "execution_count": null,
      "outputs": [
        {
          "output_type": "stream",
          "text": [
            "10\n",
            "[4 6]\n",
            "[3 7]\n",
            "[[1 3]\n",
            " [2 4]]\n",
            "[1 2 3]\n"
          ],
          "name": "stdout"
        }
      ]
    },
    {
      "cell_type": "markdown",
      "metadata": {
        "id": "7UpuYRYK_2FC"
      },
      "source": [
        "### Question 2\n",
        "\n",
        "Given a 2D array:\n",
        "\n",
        "```\n",
        " 1  2  3  4\n",
        " 5  6  7  8 \n",
        " 9 10 11 12\n",
        "13 14 15 16\n",
        "```\n",
        "\n",
        "\n",
        "#### Question 2.1\n",
        "<div class=\"alert alert-info\">\n",
        "Print the all odd numbers in this array using `Boolean array indexing`.\n",
        "</div>"
      ]
    },
    {
      "cell_type": "code",
      "metadata": {
        "id": "HlwUSpE7_2FC",
        "outputId": "84afae92-0049-415d-eaa7-57a9c6742f69"
      },
      "source": [
        "\n",
        "array_numbers = np.array([\n",
        "        [1, 2, 3, 4],\n",
        "        [5, 6, 7, 8],\n",
        "        [9, 10, 11, 12],\n",
        "        [13, 14, 15, 16]\n",
        "    ])\n",
        "print(array_numbers[(array_numbers%2 == 1)])\n",
        "\n"
      ],
      "execution_count": null,
      "outputs": [
        {
          "output_type": "stream",
          "text": [
            "[ 1  3  5  7  9 11 13 15]\n"
          ],
          "name": "stdout"
        }
      ]
    },
    {
      "cell_type": "markdown",
      "metadata": {
        "id": "trt-hGGR_2FD"
      },
      "source": [
        "#### Question 2.2\n",
        "<div class=\"alert alert-info\">\n",
        "Extract the second row and the third column in this array using `array slicing`.\n",
        "</div>"
      ]
    },
    {
      "cell_type": "code",
      "metadata": {
        "id": "bucEWI8N_2FD",
        "outputId": "3dcf1fdd-a16f-48a5-c202-6eef30ff5881"
      },
      "source": [
        "\n",
        "print(array_numbers[1])\n",
        "print(array_numbers[:, 2])\n"
      ],
      "execution_count": null,
      "outputs": [
        {
          "output_type": "stream",
          "text": [
            "[5 6 7 8]\n",
            "[ 3  7 11 15]\n"
          ],
          "name": "stdout"
        }
      ]
    },
    {
      "cell_type": "markdown",
      "metadata": {
        "id": "WB8No6YT_2FD"
      },
      "source": [
        "#### Question 2.3\n",
        "<div class=\"alert alert-info\">\n",
        "Calculate the sum of diagonal elements.\n",
        "</div>"
      ]
    },
    {
      "cell_type": "code",
      "metadata": {
        "id": "XZXBipQF_2FE",
        "outputId": "e5981c70-7acf-4109-d6c1-e64f1ff7bd49"
      },
      "source": [
        "\n",
        "sum = 0\n",
        "for i in range(0, len(array_numbers[1])):\n",
        "    sum += array_numbers[i][i]\n",
        "    \n",
        "print(sum)\n"
      ],
      "execution_count": null,
      "outputs": [
        {
          "output_type": "stream",
          "text": [
            "34\n"
          ],
          "name": "stdout"
        }
      ]
    },
    {
      "cell_type": "markdown",
      "metadata": {
        "id": "6n5dqCw-_2FE"
      },
      "source": [
        "#### Question 2.4\n",
        "<div class=\"alert alert-info\">\n",
        "Print elementwise multiplication of the first row and the last row using numpy's functions.\n",
        "\n",
        "Print the inner product of these two rows.\n",
        "</div>"
      ]
    },
    {
      "cell_type": "code",
      "metadata": {
        "id": "4TAtLgL9_2FE",
        "outputId": "0f249a78-8be5-4941-f3c5-946920d42bdb"
      },
      "source": [
        "\n",
        "print(\"np.multiply(x, y)=\", np.multiply(array_numbers[0], array_numbers[3]), \"\\n\")\n",
        "v = array_numbers[0]\n",
        "w = array_numbers[3]\n",
        "print(\"row1.dot(row4)=\", v.dot(w))"
      ],
      "execution_count": null,
      "outputs": [
        {
          "output_type": "stream",
          "text": [
            "np.multiply(x, y)= [13 28 45 64] \n",
            "\n",
            "row1.dot(row4)= 150\n"
          ],
          "name": "stdout"
        }
      ]
    },
    {
      "cell_type": "markdown",
      "metadata": {
        "id": "6w9V4gSp_2FF"
      },
      "source": [
        "## 2.3. Matplotlib\n",
        "\n",
        "As its name indicates, Matplotlib is a plotting library. It provides both a very quick way to visualize data from Python and publication-quality figures in many formats. The most important function in matplotlib is `plot`, which allows you to plot 2D data."
      ]
    },
    {
      "cell_type": "code",
      "metadata": {
        "id": "2Tl11hMR_2FF",
        "outputId": "652973f2-e44f-4f17-8ad7-2a7836c73976"
      },
      "source": [
        "%matplotlib inline\n",
        "import matplotlib.pyplot as plt\n",
        "plt.plot([1,2,3,4])\n",
        "plt.ylabel('custom y label')\n",
        "plt.show()"
      ],
      "execution_count": null,
      "outputs": [
        {
          "output_type": "display_data",
          "data": {
            "image/png": "[encoded data removed]",
            "text/plain": [
              "<Figure size 432x288 with 1 Axes>"
            ]
          },
          "metadata": {
            "tags": []
          }
        }
      ]
    },
    {
      "cell_type": "markdown",
      "metadata": {
        "id": "8ypm08Kg_2FG"
      },
      "source": [
        "In this case, we provide a single list or array to the `plot()` command, matplotlib assumes it is a sequence of y values, and automatically generates the x values for us. Since python ranges start with 0, the default x vector has the same length as y but starts with 0. Hence the x data are [0,1,2,3].\n",
        "\n",
        "In the next example, we plot figure with both x and y data. Besides, we want to draw dashed lines instead of the solid in default."
      ]
    },
    {
      "cell_type": "code",
      "metadata": {
        "id": "cZm_xi2w_2FG",
        "outputId": "2116030d-154e-47ec-aedb-676d2fc517cd"
      },
      "source": [
        "%matplotlib inline\n",
        "import matplotlib.pyplot as plt\n",
        "\n",
        "# simple line chart\n",
        "plt.plot(histogram)\n",
        "x_indexes = [0,1,2]\n",
        "#x_indexes = range()\n",
        "x_names = divisors\n",
        "#plt.xticks(x_indexes, x_names)\n",
        "plt.show()\n"
      ],
      "execution_count": null,
      "outputs": [
        {
          "output_type": "display_data",
          "data": {
            "image/png": "[encoded data removed]",
            "text/plain": [
              "<Figure size 432x288 with 1 Axes>"
            ]
          },
          "metadata": {
            "tags": []
          }
        }
      ]
    },
    {
      "cell_type": "markdown",
      "metadata": {
        "id": "MFp4oDWf_2FG"
      },
      "source": [
        "If we want to merge two figures into a single one, subplot is the best way to do that. For example, we want to put two figures in a stack vertically, we should define a grid of plots with 2 rows and 1 column. Then, in each row, a single figure is plotted."
      ]
    },
    {
      "cell_type": "code",
      "metadata": {
        "id": "YlahCeKD_2FH",
        "outputId": "c56711f6-aea4-485e-9d6a-122bc74a6a9a"
      },
      "source": [
        "# Set up a subplot grid that has height 2 and width 1,\n",
        "# and set the first such subplot as active.\n",
        "plt.subplot(2, 1, 1)\n",
        "plt.plot([1, 2, 3, 4], [1, 4, 9, 16], 'r--')\n",
        "\n",
        "# Set the second subplot as active, and make the second plot.\n",
        "plt.subplot(2, 1, 2)\n",
        "plt.bar([1, 2, 3, 4], [1, 4, 9, 16])\n",
        "\n",
        "plt.show()"
      ],
      "execution_count": null,
      "outputs": [
        {
          "output_type": "display_data",
          "data": {
            "image/png": "[encoded data removed]",
            "text/plain": [
              "<Figure size 432x288 with 2 Axes>"
            ]
          },
          "metadata": {
            "tags": []
          }
        }
      ]
    },
    {
      "cell_type": "markdown",
      "metadata": {
        "id": "owNfCKvF_2FH"
      },
      "source": [
        "For more examples, please visit the [homepage](http://matplotlib.org/1.5.1/examples/index.html) of Matplotlib."
      ]
    },
    {
      "cell_type": "markdown",
      "metadata": {
        "id": "ykGRHuMo_2FH"
      },
      "source": [
        "###  Question 3\n",
        "Given a list of numbers from 0 to 9999.\n",
        "\n",
        "\n",
        "#### Question 3.1\n",
        "<div class=\"alert alert-info\">\n",
        "Calculate the histogram of numbers divisible by 3, 7, 11 in the list respectively.\n",
        "\n",
        "( Or in other words, how many numbers divisible by 3, 7, 11 in the list respectively ?)\n",
        "</div>"
      ]
    },
    {
      "cell_type": "code",
      "metadata": {
        "id": "D5e81TsX_2FI",
        "outputId": "1aa3eea6-51da-460f-8f2a-32bea9bf3d06"
      },
      "source": [
        "\n",
        "import numpy as np\n",
        "arr = np.array(range(0, 9999))\n",
        "divisors = [3, 7, 11]\n",
        "\n",
        "histogram = [len(arr[arr % i == 1]) for i in divisors]\n",
        "print(histogram)\n",
        "\n",
        "print()\n",
        "for i in range(len(divisors)):\n",
        "    print(divisors[i], \":\", histogram[i])\n"
      ],
      "execution_count": null,
      "outputs": [
        {
          "output_type": "stream",
          "text": [
            "[3333, 1429, 909]\n",
            "\n",
            "3 : 3333\n",
            "7 : 1429\n",
            "11 : 909\n"
          ],
          "name": "stdout"
        }
      ]
    },
    {
      "cell_type": "markdown",
      "metadata": {
        "id": "K_6vFBPb_2FI"
      },
      "source": [
        "#### Question 3.2\n",
        "<div class=\"alert alert-info\">\n",
        "Plot the histogram in a line chart.\n",
        "</div>"
      ]
    },
    {
      "cell_type": "code",
      "metadata": {
        "id": "gySYVRd6_2FJ",
        "outputId": "a5635cd2-bc43-414a-bc07-895a5e3504b2"
      },
      "source": [
        "%matplotlib inline\n",
        "import matplotlib.pyplot as plt\n",
        "\n",
        "# simple line chart\n",
        "plt.plot(histogram)\n",
        "x_indexes = [0,1,2]\n",
        "#x_indexes = range()\n",
        "x_names = divisors\n",
        "#plt.xticks(x_indexes, x_names)\n",
        "plt.show()\n",
        "\n"
      ],
      "execution_count": null,
      "outputs": [
        {
          "output_type": "display_data",
          "data": {
            "image/png": "[encoded data removed]",
            "text/plain": [
              "<Figure size 432x288 with 1 Axes>"
            ]
          },
          "metadata": {
            "tags": []
          }
        }
      ]
    },
    {
      "cell_type": "markdown",
      "metadata": {
        "id": "xH7vcMHW_2FJ"
      },
      "source": [
        "#### Question 3.3\n",
        "<div class=\"alert alert-info\">\n",
        "Plot the histogram in a bar chart.\n",
        "</div>"
      ]
    },
    {
      "cell_type": "code",
      "metadata": {
        "id": "JHpJKiY8_2FK",
        "outputId": "154fff1d-8637-4351-ac1f-b5f92401145f"
      },
      "source": [
        "# char chart with x-lables\n",
        "x_indexes = range(1, len(histogram)+1)\n",
        "x_names = list(\"Type \" + str(x) for x in range(1, len(histogram) + 1))\n",
        "plt.bar( x_indexes, histogram, align='center')\n",
        "plt.xticks(x_indexes, x_names)\n",
        "plt.show()"
      ],
      "execution_count": null,
      "outputs": [
        {
          "output_type": "display_data",
          "data": {
            "image/png": "[encoded data removed]",
            "text/plain": [
              "<Figure size 432x288 with 1 Axes>"
            ]
          },
          "metadata": {
            "tags": []
          }
        }
      ]
    },
    {
      "cell_type": "markdown",
      "metadata": {
        "id": "-dS5rmY__2FK"
      },
      "source": [
        "## 2.4. Pandas\n",
        "\n",
        "Pandas is an open source library providing high-performance, easy-to-use data structures and data analysis tools for the Python programming language. Indeed, it is great for data manipulation, data analysis, and data visualization.\n",
        "\n",
        "### 2.4.1. Data structures\n",
        "Pandas introduces two useful (and powerful) structures: `Series` and `DataFrame`, both of which are built on top of NumPy.\n",
        "\n",
        "#### Series\n",
        "A `Series` is a one-dimensional object similar to an array, list, or even column in a table. It assigns a *labeled index* to each item in the Series. By default, each item will receive an index label from `0` to `N-1`, where `N` is the number items of `Series`.\n",
        "\n",
        "We can create a Series by passing a list of values, and let pandas create a default integer index.\n"
      ]
    },
    {
      "cell_type": "code",
      "metadata": {
        "id": "uV8efLuD_2FK"
      },
      "source": [
        "import pandas as pd\n",
        "import numpy as np\n",
        "\n",
        "# create a Series with an arbitrary list\n",
        "s = pd.Series([3, 'Machine learning', 1.414259, -65545, 'Happy coding!'])\n",
        "print(s)"
      ],
      "execution_count": null,
      "outputs": []
    },
    {
      "cell_type": "markdown",
      "metadata": {
        "id": "NPNH4BMd_2FL"
      },
      "source": [
        "Or, an index can be used explicitly when creating the `Series`."
      ]
    },
    {
      "cell_type": "code",
      "metadata": {
        "id": "TOktHclB_2FL"
      },
      "source": [
        "s = pd.Series([3, 'Machine learning', 1.414259, -65545, 'Happy coding!'],\n",
        "             index=['Col1', 'Col2', 'Col3', 4.1, 5])\n",
        "print(s)"
      ],
      "execution_count": null,
      "outputs": []
    },
    {
      "cell_type": "markdown",
      "metadata": {
        "id": "vY_5s4EA_2FM"
      },
      "source": [
        "A `Series` can be constructed from a dictionary too."
      ]
    },
    {
      "cell_type": "code",
      "metadata": {
        "id": "6na_96nW_2FM",
        "outputId": "a772ec23-a307-42bb-9955-86e2b8475191"
      },
      "source": [
        "s = pd.Series({\n",
        "        'Col1': 3, 'Col2': 'Machine learning', \n",
        "        'Col3': 1.414259, 4.1: -65545, \n",
        "        5: 'Happy coding!'\n",
        "    })\n",
        "print(s)"
      ],
      "execution_count": null,
      "outputs": [
        {
          "output_type": "stream",
          "text": [
            "Col1                   3\n",
            "Col2    Machine learning\n",
            "Col3             1.41426\n",
            "4.1               -65545\n",
            "5          Happy coding!\n",
            "dtype: object\n"
          ],
          "name": "stdout"
        }
      ]
    },
    {
      "cell_type": "markdown",
      "metadata": {
        "id": "WWjxT9PE_2FM"
      },
      "source": [
        "We can access items in a `Series` in a same way as `Numpy`."
      ]
    },
    {
      "cell_type": "code",
      "metadata": {
        "id": "mukOslHG_2FN",
        "outputId": "7d34a9d9-5910-4b14-a3ed-40bde8a23488"
      },
      "source": [
        "s = pd.Series({\n",
        "        'Col1': 3, 'Col2': -10, \n",
        "        'Col3': 1.414259, \n",
        "        4.1: -65545, \n",
        "        5: 8\n",
        "    })\n",
        "\n",
        "# get element which has index='Col1'\n",
        "print(\"s['Col1']=\", s['Col1'], \"\\n\")\n",
        "\n",
        "# get elements whose index is in a given list\n",
        "print(\"s[['Col1', 'Col3', 4.5]]=\", s[['Col1', 'Col3', 4.5]], \"\\n\")\n",
        "\n",
        "# use boolean indexing for selection\n",
        "print(s[s > 0], \"\\n\")\n",
        "\n",
        "# modify elements on the fly using boolean indexing\n",
        "s[s > 0] = 15\n",
        "\n",
        "print(s, \"\\n\")\n",
        "\n",
        "# mathematical operations can be done using operators and functions.\n",
        "print(s*10,  \"\\n\")\n",
        "print(np.square(s), \"\\n\")"
      ],
      "execution_count": null,
      "outputs": [
        {
          "output_type": "stream",
          "text": [
            "s['Col1']= 3.0 \n",
            "\n",
            "s[['Col1', 'Col3', 4.5]]= Col1    3.000000\n",
            "Col3    1.414259\n",
            "4.5          NaN\n",
            "dtype: float64 \n",
            "\n",
            "Col1    3.000000\n",
            "Col3    1.414259\n",
            "5       8.000000\n",
            "dtype: float64 \n",
            "\n",
            "Col1       15.0\n",
            "Col2      -10.0\n",
            "Col3       15.0\n",
            "4.1    -65545.0\n",
            "5          15.0\n",
            "dtype: float64 \n",
            "\n",
            "Col1       150.0\n",
            "Col2      -100.0\n",
            "Col3       150.0\n",
            "4.1    -655450.0\n",
            "5          150.0\n",
            "dtype: float64 \n",
            "\n",
            "Col1    2.250000e+02\n",
            "Col2    1.000000e+02\n",
            "Col3    2.250000e+02\n",
            "4.1     4.296147e+09\n",
            "5       2.250000e+02\n",
            "dtype: float64 \n",
            "\n"
          ],
          "name": "stdout"
        },
        {
          "output_type": "stream",
          "text": [
            "/opt/conda/lib/python3.6/site-packages/pandas/core/series.py:851: FutureWarning: \n",
            "Passing list-likes to .loc or [] with any missing label will raise\n",
            "KeyError in the future, you can use .reindex() as an alternative.\n",
            "\n",
            "See the documentation here:\n",
            "https://pandas.pydata.org/pandas-docs/stable/indexing.html#deprecate-loc-reindex-listlike\n",
            "  return self.loc[key]\n"
          ],
          "name": "stderr"
        }
      ]
    },
    {
      "cell_type": "markdown",
      "metadata": {
        "id": "v9wuBLFM_2FN"
      },
      "source": [
        "#### DataFrame\n",
        "A DataFrame is a tabular data structure comprised of rows and columns, akin to database table, or R's data.frame object. In a loose way, we can also think of a DataFrame as a group of Series objects that share an index (the column names).\n",
        "\n",
        "We can create a DataFrame by passing a dict of objects that can be converted to series-like."
      ]
    },
    {
      "cell_type": "code",
      "metadata": {
        "id": "gSCEvTym_2FO",
        "outputId": "382f97fa-bf10-4a94-8b1a-4cee8aa0bc7e"
      },
      "source": [
        "data = {'year': [2013, 2014, 2015, 2013, 2014, 2015, 2013, 2014],\n",
        "        'team': ['Manchester United', 'Chelsea', 'Asernal', 'Liverpool', 'West Ham', 'Newcastle', 'Machester City', 'Tottenham'],\n",
        "        'wins': [11, 8, 10, 15, 11, 6, 10, 4],\n",
        "        'losses': [5, 8, 6, 1, 5, 10, 6, 12]}\n",
        "football = pd.DataFrame(data, columns=['year', 'team', 'wins', 'losses'])\n",
        "football"
      ],
      "execution_count": null,
      "outputs": [
        {
          "output_type": "execute_result",
          "data": {
            "text/html": [
              "<div>\n",
              "<style scoped>\n",
              "    .dataframe tbody tr th:only-of-type {\n",
              "        vertical-align: middle;\n",
              "    }\n",
              "\n",
              "    .dataframe tbody tr th {\n",
              "        vertical-align: top;\n",
              "    }\n",
              "\n",
              "    .dataframe thead th {\n",
              "        text-align: right;\n",
              "    }\n",
              "</style>\n",
              "<table border=\"1\" class=\"dataframe\">\n",
              "  <thead>\n",
              "    <tr style=\"text-align: right;\">\n",
              "      <th></th>\n",
              "      <th>year</th>\n",
              "      <th>team</th>\n",
              "      <th>wins</th>\n",
              "      <th>losses</th>\n",
              "    </tr>\n",
              "  </thead>\n",
              "  <tbody>\n",
              "    <tr>\n",
              "      <th>0</th>\n",
              "      <td>2013</td>\n",
              "      <td>Manchester United</td>\n",
              "      <td>11</td>\n",
              "      <td>5</td>\n",
              "    </tr>\n",
              "    <tr>\n",
              "      <th>1</th>\n",
              "      <td>2014</td>\n",
              "      <td>Chelsea</td>\n",
              "      <td>8</td>\n",
              "      <td>8</td>\n",
              "    </tr>\n",
              "    <tr>\n",
              "      <th>2</th>\n",
              "      <td>2015</td>\n",
              "      <td>Asernal</td>\n",
              "      <td>10</td>\n",
              "      <td>6</td>\n",
              "    </tr>\n",
              "    <tr>\n",
              "      <th>3</th>\n",
              "      <td>2013</td>\n",
              "      <td>Liverpool</td>\n",
              "      <td>15</td>\n",
              "      <td>1</td>\n",
              "    </tr>\n",
              "    <tr>\n",
              "      <th>4</th>\n",
              "      <td>2014</td>\n",
              "      <td>West Ham</td>\n",
              "      <td>11</td>\n",
              "      <td>5</td>\n",
              "    </tr>\n",
              "    <tr>\n",
              "      <th>5</th>\n",
              "      <td>2015</td>\n",
              "      <td>Newcastle</td>\n",
              "      <td>6</td>\n",
              "      <td>10</td>\n",
              "    </tr>\n",
              "    <tr>\n",
              "      <th>6</th>\n",
              "      <td>2013</td>\n",
              "      <td>Machester City</td>\n",
              "      <td>10</td>\n",
              "      <td>6</td>\n",
              "    </tr>\n",
              "    <tr>\n",
              "      <th>7</th>\n",
              "      <td>2014</td>\n",
              "      <td>Tottenham</td>\n",
              "      <td>4</td>\n",
              "      <td>12</td>\n",
              "    </tr>\n",
              "  </tbody>\n",
              "</table>\n",
              "</div>"
            ],
            "text/plain": [
              "   year               team  wins  losses\n",
              "0  2013  Manchester United    11       5\n",
              "1  2014            Chelsea     8       8\n",
              "2  2015            Asernal    10       6\n",
              "3  2013          Liverpool    15       1\n",
              "4  2014           West Ham    11       5\n",
              "5  2015          Newcastle     6      10\n",
              "6  2013     Machester City    10       6\n",
              "7  2014          Tottenham     4      12"
            ]
          },
          "metadata": {
            "tags": []
          },
          "execution_count": 5
        }
      ]
    },
    {
      "cell_type": "markdown",
      "metadata": {
        "id": "XVfQB85J_2FO"
      },
      "source": [
        "We can store data as a CSV file, or read data from a CSV file."
      ]
    },
    {
      "cell_type": "code",
      "metadata": {
        "id": "XcX3sPs0_2FP",
        "outputId": "4f6ad923-077b-49a9-96d6-1353b72b9232"
      },
      "source": [
        "# save data to a csv file without the index\n",
        "football.to_csv('football.csv', index=False)\n",
        "\n",
        "from_csv = pd.read_csv('football.csv')\n",
        "from_csv.head()"
      ],
      "execution_count": null,
      "outputs": [
        {
          "output_type": "execute_result",
          "data": {
            "text/html": [
              "<div>\n",
              "<style scoped>\n",
              "    .dataframe tbody tr th:only-of-type {\n",
              "        vertical-align: middle;\n",
              "    }\n",
              "\n",
              "    .dataframe tbody tr th {\n",
              "        vertical-align: top;\n",
              "    }\n",
              "\n",
              "    .dataframe thead th {\n",
              "        text-align: right;\n",
              "    }\n",
              "</style>\n",
              "<table border=\"1\" class=\"dataframe\">\n",
              "  <thead>\n",
              "    <tr style=\"text-align: right;\">\n",
              "      <th></th>\n",
              "      <th>year</th>\n",
              "      <th>team</th>\n",
              "      <th>wins</th>\n",
              "      <th>losses</th>\n",
              "    </tr>\n",
              "  </thead>\n",
              "  <tbody>\n",
              "    <tr>\n",
              "      <th>0</th>\n",
              "      <td>2013</td>\n",
              "      <td>Manchester United</td>\n",
              "      <td>11</td>\n",
              "      <td>5</td>\n",
              "    </tr>\n",
              "    <tr>\n",
              "      <th>1</th>\n",
              "      <td>2014</td>\n",
              "      <td>Chelsea</td>\n",
              "      <td>8</td>\n",
              "      <td>8</td>\n",
              "    </tr>\n",
              "    <tr>\n",
              "      <th>2</th>\n",
              "      <td>2015</td>\n",
              "      <td>Asernal</td>\n",
              "      <td>10</td>\n",
              "      <td>6</td>\n",
              "    </tr>\n",
              "    <tr>\n",
              "      <th>3</th>\n",
              "      <td>2013</td>\n",
              "      <td>Liverpool</td>\n",
              "      <td>15</td>\n",
              "      <td>1</td>\n",
              "    </tr>\n",
              "    <tr>\n",
              "      <th>4</th>\n",
              "      <td>2014</td>\n",
              "      <td>West Ham</td>\n",
              "      <td>11</td>\n",
              "      <td>5</td>\n",
              "    </tr>\n",
              "  </tbody>\n",
              "</table>\n",
              "</div>"
            ],
            "text/plain": [
              "   year               team  wins  losses\n",
              "0  2013  Manchester United    11       5\n",
              "1  2014            Chelsea     8       8\n",
              "2  2015            Asernal    10       6\n",
              "3  2013          Liverpool    15       1\n",
              "4  2014           West Ham    11       5"
            ]
          },
          "metadata": {
            "tags": []
          },
          "execution_count": 6
        }
      ]
    },
    {
      "cell_type": "markdown",
      "metadata": {
        "id": "pIFDSQqQ_2FW"
      },
      "source": [
        "To read a CSV file with a custom delimiter between values and custom columns' names, we can use parameters `sep` and `names` relatively.\n",
        "Moreover, Pandas also supports to read and write to [Excel file](http://pandas.pydata.org/pandas-docs/stable/io.html#io-excel) , sqlite database file, URL,  or even clipboard.\n",
        "\n",
        "We can have an overview on the data by using functions `info` and `describe`."
      ]
    },
    {
      "cell_type": "code",
      "metadata": {
        "id": "Rrf8kFc1_2FW",
        "outputId": "0ecfae18-ff95-4d88-daea-fa8a7eeb3f7f"
      },
      "source": [
        "print(football.info(), \"\\n\")\n",
        "football.describe()"
      ],
      "execution_count": null,
      "outputs": [
        {
          "output_type": "stream",
          "text": [
            "<class 'pandas.core.frame.DataFrame'>\n",
            "RangeIndex: 8 entries, 0 to 7\n",
            "Data columns (total 4 columns):\n",
            "year      8 non-null int64\n",
            "team      8 non-null object\n",
            "wins      8 non-null int64\n",
            "losses    8 non-null int64\n",
            "dtypes: int64(3), object(1)\n",
            "memory usage: 336.0+ bytes\n",
            "None \n",
            "\n"
          ],
          "name": "stdout"
        },
        {
          "output_type": "execute_result",
          "data": {
            "text/html": [
              "<div>\n",
              "<style scoped>\n",
              "    .dataframe tbody tr th:only-of-type {\n",
              "        vertical-align: middle;\n",
              "    }\n",
              "\n",
              "    .dataframe tbody tr th {\n",
              "        vertical-align: top;\n",
              "    }\n",
              "\n",
              "    .dataframe thead th {\n",
              "        text-align: right;\n",
              "    }\n",
              "</style>\n",
              "<table border=\"1\" class=\"dataframe\">\n",
              "  <thead>\n",
              "    <tr style=\"text-align: right;\">\n",
              "      <th></th>\n",
              "      <th>year</th>\n",
              "      <th>wins</th>\n",
              "      <th>losses</th>\n",
              "    </tr>\n",
              "  </thead>\n",
              "  <tbody>\n",
              "    <tr>\n",
              "      <th>count</th>\n",
              "      <td>8.000000</td>\n",
              "      <td>8.000000</td>\n",
              "      <td>8.000000</td>\n",
              "    </tr>\n",
              "    <tr>\n",
              "      <th>mean</th>\n",
              "      <td>2013.875000</td>\n",
              "      <td>9.375000</td>\n",
              "      <td>6.625000</td>\n",
              "    </tr>\n",
              "    <tr>\n",
              "      <th>std</th>\n",
              "      <td>0.834523</td>\n",
              "      <td>3.377975</td>\n",
              "      <td>3.377975</td>\n",
              "    </tr>\n",
              "    <tr>\n",
              "      <th>min</th>\n",
              "      <td>2013.000000</td>\n",
              "      <td>4.000000</td>\n",
              "      <td>1.000000</td>\n",
              "    </tr>\n",
              "    <tr>\n",
              "      <th>25%</th>\n",
              "      <td>2013.000000</td>\n",
              "      <td>7.500000</td>\n",
              "      <td>5.000000</td>\n",
              "    </tr>\n",
              "    <tr>\n",
              "      <th>50%</th>\n",
              "      <td>2014.000000</td>\n",
              "      <td>10.000000</td>\n",
              "      <td>6.000000</td>\n",
              "    </tr>\n",
              "    <tr>\n",
              "      <th>75%</th>\n",
              "      <td>2014.250000</td>\n",
              "      <td>11.000000</td>\n",
              "      <td>8.500000</td>\n",
              "    </tr>\n",
              "    <tr>\n",
              "      <th>max</th>\n",
              "      <td>2015.000000</td>\n",
              "      <td>15.000000</td>\n",
              "      <td>12.000000</td>\n",
              "    </tr>\n",
              "  </tbody>\n",
              "</table>\n",
              "</div>"
            ],
            "text/plain": [
              "              year       wins     losses\n",
              "count     8.000000   8.000000   8.000000\n",
              "mean   2013.875000   9.375000   6.625000\n",
              "std       0.834523   3.377975   3.377975\n",
              "min    2013.000000   4.000000   1.000000\n",
              "25%    2013.000000   7.500000   5.000000\n",
              "50%    2014.000000  10.000000   6.000000\n",
              "75%    2014.250000  11.000000   8.500000\n",
              "max    2015.000000  15.000000  12.000000"
            ]
          },
          "metadata": {
            "tags": []
          },
          "execution_count": 7
        }
      ]
    },
    {
      "cell_type": "markdown",
      "metadata": {
        "id": "2nsz30RO_2FX"
      },
      "source": [
        "Numpy's regular slicing syntax works as well."
      ]
    },
    {
      "cell_type": "code",
      "metadata": {
        "id": "3VEmDm3b_2FX",
        "outputId": "7fd333a8-8176-4316-b717-d6c5a8498f3e"
      },
      "source": [
        "print(football[0:2], \"\\n\")\n",
        "\n",
        "# show only the teams that have won more than 10 matches from 2014\n",
        "print(football[(football.year >= 2014) & (football.wins >= 10)])"
      ],
      "execution_count": null,
      "outputs": [
        {
          "output_type": "stream",
          "text": [
            "   year               team  wins  losses\n",
            "0  2013  Manchester United    11       5\n",
            "1  2014            Chelsea     8       8 \n",
            "\n",
            "   year      team  wins  losses\n",
            "2  2015   Asernal    10       6\n",
            "4  2014  West Ham    11       5\n"
          ],
          "name": "stdout"
        }
      ]
    },
    {
      "cell_type": "markdown",
      "metadata": {
        "id": "p0AZ_QJv_2FY"
      },
      "source": [
        "An important feature that Pandas supports is `JOIN`. Very often, the data comes from multiple sources, in multiple files. For example, we have 2 CSV files, one contains the information of Artists, the other contains information of Songs. If we want to query the artist name and his/her corresponding songs, we have to do joining two dataframe.\n",
        "\n",
        "Similar to SQL, in Pandas, you can do inner join, left outer join, right outer join and full outer join. Let's see a small example. Assume that we have two dataset of singers and songs. The relationship between two datasets is maintained by a constrain on `singer_code`."
      ]
    },
    {
      "cell_type": "code",
      "metadata": {
        "id": "yLTJtZ0k_2FY",
        "outputId": "cc9e3ff1-b3bd-4d90-9873-2434d17f378d"
      },
      "source": [
        "singers = pd.DataFrame({'singer_code': range(5), \n",
        "                           'singer_name': ['singer_a', 'singer_b', 'singer_c', 'singer_d', 'singer_e']})\n",
        "songs = pd.DataFrame({'singer_code': [2, 2, 3, 4, 5], \n",
        "                           'song_name': ['song_f', 'song_g', 'song_h', 'song_i', 'song_j']})\n",
        "print(singers)\n",
        "print('\\n')\n",
        "print(songs)"
      ],
      "execution_count": null,
      "outputs": [
        {
          "output_type": "stream",
          "text": [
            "   singer_code singer_name\n",
            "0            0    singer_a\n",
            "1            1    singer_b\n",
            "2            2    singer_c\n",
            "3            3    singer_d\n",
            "4            4    singer_e\n",
            "\n",
            "\n",
            "   singer_code song_name\n",
            "0            2    song_f\n",
            "1            2    song_g\n",
            "2            3    song_h\n",
            "3            4    song_i\n",
            "4            5    song_j\n"
          ],
          "name": "stdout"
        }
      ]
    },
    {
      "cell_type": "code",
      "metadata": {
        "id": "gX_0hY8P_2FZ",
        "outputId": "74864741-f2de-492e-a179-e1d8daf88943"
      },
      "source": [
        "# inner join\n",
        "pd.merge(singers, songs, on='singer_code', how='inner')"
      ],
      "execution_count": null,
      "outputs": [
        {
          "output_type": "execute_result",
          "data": {
            "text/html": [
              "<div>\n",
              "<style scoped>\n",
              "    .dataframe tbody tr th:only-of-type {\n",
              "        vertical-align: middle;\n",
              "    }\n",
              "\n",
              "    .dataframe tbody tr th {\n",
              "        vertical-align: top;\n",
              "    }\n",
              "\n",
              "    .dataframe thead th {\n",
              "        text-align: right;\n",
              "    }\n",
              "</style>\n",
              "<table border=\"1\" class=\"dataframe\">\n",
              "  <thead>\n",
              "    <tr style=\"text-align: right;\">\n",
              "      <th></th>\n",
              "      <th>singer_code</th>\n",
              "      <th>singer_name</th>\n",
              "      <th>song_name</th>\n",
              "    </tr>\n",
              "  </thead>\n",
              "  <tbody>\n",
              "    <tr>\n",
              "      <th>0</th>\n",
              "      <td>2</td>\n",
              "      <td>singer_c</td>\n",
              "      <td>song_f</td>\n",
              "    </tr>\n",
              "    <tr>\n",
              "      <th>1</th>\n",
              "      <td>2</td>\n",
              "      <td>singer_c</td>\n",
              "      <td>song_g</td>\n",
              "    </tr>\n",
              "    <tr>\n",
              "      <th>2</th>\n",
              "      <td>3</td>\n",
              "      <td>singer_d</td>\n",
              "      <td>song_h</td>\n",
              "    </tr>\n",
              "    <tr>\n",
              "      <th>3</th>\n",
              "      <td>4</td>\n",
              "      <td>singer_e</td>\n",
              "      <td>song_i</td>\n",
              "    </tr>\n",
              "  </tbody>\n",
              "</table>\n",
              "</div>"
            ],
            "text/plain": [
              "   singer_code singer_name song_name\n",
              "0            2    singer_c    song_f\n",
              "1            2    singer_c    song_g\n",
              "2            3    singer_d    song_h\n",
              "3            4    singer_e    song_i"
            ]
          },
          "metadata": {
            "tags": []
          },
          "execution_count": 10
        }
      ]
    },
    {
      "cell_type": "code",
      "metadata": {
        "id": "CqYzVXNM_2FZ",
        "outputId": "f71e8112-ac2e-4534-ea21-d2a0ca28534a"
      },
      "source": [
        "# left join\n",
        "pd.merge(singers, songs, on='singer_code', how='left')"
      ],
      "execution_count": null,
      "outputs": [
        {
          "output_type": "execute_result",
          "data": {
            "text/html": [
              "<div>\n",
              "<style scoped>\n",
              "    .dataframe tbody tr th:only-of-type {\n",
              "        vertical-align: middle;\n",
              "    }\n",
              "\n",
              "    .dataframe tbody tr th {\n",
              "        vertical-align: top;\n",
              "    }\n",
              "\n",
              "    .dataframe thead th {\n",
              "        text-align: right;\n",
              "    }\n",
              "</style>\n",
              "<table border=\"1\" class=\"dataframe\">\n",
              "  <thead>\n",
              "    <tr style=\"text-align: right;\">\n",
              "      <th></th>\n",
              "      <th>singer_code</th>\n",
              "      <th>singer_name</th>\n",
              "      <th>song_name</th>\n",
              "    </tr>\n",
              "  </thead>\n",
              "  <tbody>\n",
              "    <tr>\n",
              "      <th>0</th>\n",
              "      <td>0</td>\n",
              "      <td>singer_a</td>\n",
              "      <td>NaN</td>\n",
              "    </tr>\n",
              "    <tr>\n",
              "      <th>1</th>\n",
              "      <td>1</td>\n",
              "      <td>singer_b</td>\n",
              "      <td>NaN</td>\n",
              "    </tr>\n",
              "    <tr>\n",
              "      <th>2</th>\n",
              "      <td>2</td>\n",
              "      <td>singer_c</td>\n",
              "      <td>song_f</td>\n",
              "    </tr>\n",
              "    <tr>\n",
              "      <th>3</th>\n",
              "      <td>2</td>\n",
              "      <td>singer_c</td>\n",
              "      <td>song_g</td>\n",
              "    </tr>\n",
              "    <tr>\n",
              "      <th>4</th>\n",
              "      <td>3</td>\n",
              "      <td>singer_d</td>\n",
              "      <td>song_h</td>\n",
              "    </tr>\n",
              "    <tr>\n",
              "      <th>5</th>\n",
              "      <td>4</td>\n",
              "      <td>singer_e</td>\n",
              "      <td>song_i</td>\n",
              "    </tr>\n",
              "  </tbody>\n",
              "</table>\n",
              "</div>"
            ],
            "text/plain": [
              "   singer_code singer_name song_name\n",
              "0            0    singer_a       NaN\n",
              "1            1    singer_b       NaN\n",
              "2            2    singer_c    song_f\n",
              "3            2    singer_c    song_g\n",
              "4            3    singer_d    song_h\n",
              "5            4    singer_e    song_i"
            ]
          },
          "metadata": {
            "tags": []
          },
          "execution_count": 11
        }
      ]
    },
    {
      "cell_type": "code",
      "metadata": {
        "id": "BMOoxJQv_2Fa",
        "outputId": "b185685e-c8a0-4cbd-c2eb-8f9ff9d16f19"
      },
      "source": [
        "# right join\n",
        "pd.merge(singers, songs, on='singer_code', how='right')"
      ],
      "execution_count": null,
      "outputs": [
        {
          "output_type": "execute_result",
          "data": {
            "text/html": [
              "<div>\n",
              "<style scoped>\n",
              "    .dataframe tbody tr th:only-of-type {\n",
              "        vertical-align: middle;\n",
              "    }\n",
              "\n",
              "    .dataframe tbody tr th {\n",
              "        vertical-align: top;\n",
              "    }\n",
              "\n",
              "    .dataframe thead th {\n",
              "        text-align: right;\n",
              "    }\n",
              "</style>\n",
              "<table border=\"1\" class=\"dataframe\">\n",
              "  <thead>\n",
              "    <tr style=\"text-align: right;\">\n",
              "      <th></th>\n",
              "      <th>singer_code</th>\n",
              "      <th>singer_name</th>\n",
              "      <th>song_name</th>\n",
              "    </tr>\n",
              "  </thead>\n",
              "  <tbody>\n",
              "    <tr>\n",
              "      <th>0</th>\n",
              "      <td>2</td>\n",
              "      <td>singer_c</td>\n",
              "      <td>song_f</td>\n",
              "    </tr>\n",
              "    <tr>\n",
              "      <th>1</th>\n",
              "      <td>2</td>\n",
              "      <td>singer_c</td>\n",
              "      <td>song_g</td>\n",
              "    </tr>\n",
              "    <tr>\n",
              "      <th>2</th>\n",
              "      <td>3</td>\n",
              "      <td>singer_d</td>\n",
              "      <td>song_h</td>\n",
              "    </tr>\n",
              "    <tr>\n",
              "      <th>3</th>\n",
              "      <td>4</td>\n",
              "      <td>singer_e</td>\n",
              "      <td>song_i</td>\n",
              "    </tr>\n",
              "    <tr>\n",
              "      <th>4</th>\n",
              "      <td>5</td>\n",
              "      <td>NaN</td>\n",
              "      <td>song_j</td>\n",
              "    </tr>\n",
              "  </tbody>\n",
              "</table>\n",
              "</div>"
            ],
            "text/plain": [
              "   singer_code singer_name song_name\n",
              "0            2    singer_c    song_f\n",
              "1            2    singer_c    song_g\n",
              "2            3    singer_d    song_h\n",
              "3            4    singer_e    song_i\n",
              "4            5         NaN    song_j"
            ]
          },
          "metadata": {
            "tags": []
          },
          "execution_count": 12
        }
      ]
    },
    {
      "cell_type": "code",
      "metadata": {
        "id": "YRUsjViE_2Fa",
        "outputId": "7030d635-84bd-40bf-a5b2-fb9796210bec"
      },
      "source": [
        "# outer join (full join)\n",
        "pd.merge(singers, songs, on='singer_code', how='outer')"
      ],
      "execution_count": null,
      "outputs": [
        {
          "output_type": "execute_result",
          "data": {
            "text/html": [
              "<div>\n",
              "<style scoped>\n",
              "    .dataframe tbody tr th:only-of-type {\n",
              "        vertical-align: middle;\n",
              "    }\n",
              "\n",
              "    .dataframe tbody tr th {\n",
              "        vertical-align: top;\n",
              "    }\n",
              "\n",
              "    .dataframe thead th {\n",
              "        text-align: right;\n",
              "    }\n",
              "</style>\n",
              "<table border=\"1\" class=\"dataframe\">\n",
              "  <thead>\n",
              "    <tr style=\"text-align: right;\">\n",
              "      <th></th>\n",
              "      <th>singer_code</th>\n",
              "      <th>singer_name</th>\n",
              "      <th>song_name</th>\n",
              "    </tr>\n",
              "  </thead>\n",
              "  <tbody>\n",
              "    <tr>\n",
              "      <th>0</th>\n",
              "      <td>0</td>\n",
              "      <td>singer_a</td>\n",
              "      <td>NaN</td>\n",
              "    </tr>\n",
              "    <tr>\n",
              "      <th>1</th>\n",
              "      <td>1</td>\n",
              "      <td>singer_b</td>\n",
              "      <td>NaN</td>\n",
              "    </tr>\n",
              "    <tr>\n",
              "      <th>2</th>\n",
              "      <td>2</td>\n",
              "      <td>singer_c</td>\n",
              "      <td>song_f</td>\n",
              "    </tr>\n",
              "    <tr>\n",
              "      <th>3</th>\n",
              "      <td>2</td>\n",
              "      <td>singer_c</td>\n",
              "      <td>song_g</td>\n",
              "    </tr>\n",
              "    <tr>\n",
              "      <th>4</th>\n",
              "      <td>3</td>\n",
              "      <td>singer_d</td>\n",
              "      <td>song_h</td>\n",
              "    </tr>\n",
              "    <tr>\n",
              "      <th>5</th>\n",
              "      <td>4</td>\n",
              "      <td>singer_e</td>\n",
              "      <td>song_i</td>\n",
              "    </tr>\n",
              "    <tr>\n",
              "      <th>6</th>\n",
              "      <td>5</td>\n",
              "      <td>NaN</td>\n",
              "      <td>song_j</td>\n",
              "    </tr>\n",
              "  </tbody>\n",
              "</table>\n",
              "</div>"
            ],
            "text/plain": [
              "   singer_code singer_name song_name\n",
              "0            0    singer_a       NaN\n",
              "1            1    singer_b       NaN\n",
              "2            2    singer_c    song_f\n",
              "3            2    singer_c    song_g\n",
              "4            3    singer_d    song_h\n",
              "5            4    singer_e    song_i\n",
              "6            5         NaN    song_j"
            ]
          },
          "metadata": {
            "tags": []
          },
          "execution_count": 13
        }
      ]
    },
    {
      "cell_type": "markdown",
      "metadata": {
        "id": "zFZMOHhj_2Fb"
      },
      "source": [
        "We can also concatenate two dataframes vertically or horizontally via function `concat` and parameter `axis`. This function is useful when we need to append two similar datasets or to put them side by site"
      ]
    },
    {
      "cell_type": "code",
      "metadata": {
        "id": "tbqnpIwB_2Fb",
        "outputId": "75945e75-6037-4fa5-f2c5-e19fa3856527"
      },
      "source": [
        "# concat vertically\n",
        "pd.concat([singers, songs])"
      ],
      "execution_count": null,
      "outputs": [
        {
          "output_type": "stream",
          "text": [
            "/opt/conda/lib/python3.6/site-packages/ipykernel_launcher.py:2: FutureWarning: Sorting because non-concatenation axis is not aligned. A future version\n",
            "of pandas will change to not sort by default.\n",
            "\n",
            "To accept the future behavior, pass 'sort=False'.\n",
            "\n",
            "To retain the current behavior and silence the warning, pass 'sort=True'.\n",
            "\n",
            "  \n"
          ],
          "name": "stderr"
        },
        {
          "output_type": "execute_result",
          "data": {
            "text/html": [
              "<div>\n",
              "<style scoped>\n",
              "    .dataframe tbody tr th:only-of-type {\n",
              "        vertical-align: middle;\n",
              "    }\n",
              "\n",
              "    .dataframe tbody tr th {\n",
              "        vertical-align: top;\n",
              "    }\n",
              "\n",
              "    .dataframe thead th {\n",
              "        text-align: right;\n",
              "    }\n",
              "</style>\n",
              "<table border=\"1\" class=\"dataframe\">\n",
              "  <thead>\n",
              "    <tr style=\"text-align: right;\">\n",
              "      <th></th>\n",
              "      <th>singer_code</th>\n",
              "      <th>singer_name</th>\n",
              "      <th>song_name</th>\n",
              "    </tr>\n",
              "  </thead>\n",
              "  <tbody>\n",
              "    <tr>\n",
              "      <th>0</th>\n",
              "      <td>0</td>\n",
              "      <td>singer_a</td>\n",
              "      <td>NaN</td>\n",
              "    </tr>\n",
              "    <tr>\n",
              "      <th>1</th>\n",
              "      <td>1</td>\n",
              "      <td>singer_b</td>\n",
              "      <td>NaN</td>\n",
              "    </tr>\n",
              "    <tr>\n",
              "      <th>2</th>\n",
              "      <td>2</td>\n",
              "      <td>singer_c</td>\n",
              "      <td>NaN</td>\n",
              "    </tr>\n",
              "    <tr>\n",
              "      <th>3</th>\n",
              "      <td>3</td>\n",
              "      <td>singer_d</td>\n",
              "      <td>NaN</td>\n",
              "    </tr>\n",
              "    <tr>\n",
              "      <th>4</th>\n",
              "      <td>4</td>\n",
              "      <td>singer_e</td>\n",
              "      <td>NaN</td>\n",
              "    </tr>\n",
              "    <tr>\n",
              "      <th>0</th>\n",
              "      <td>2</td>\n",
              "      <td>NaN</td>\n",
              "      <td>song_f</td>\n",
              "    </tr>\n",
              "    <tr>\n",
              "      <th>1</th>\n",
              "      <td>2</td>\n",
              "      <td>NaN</td>\n",
              "      <td>song_g</td>\n",
              "    </tr>\n",
              "    <tr>\n",
              "      <th>2</th>\n",
              "      <td>3</td>\n",
              "      <td>NaN</td>\n",
              "      <td>song_h</td>\n",
              "    </tr>\n",
              "    <tr>\n",
              "      <th>3</th>\n",
              "      <td>4</td>\n",
              "      <td>NaN</td>\n",
              "      <td>song_i</td>\n",
              "    </tr>\n",
              "    <tr>\n",
              "      <th>4</th>\n",
              "      <td>5</td>\n",
              "      <td>NaN</td>\n",
              "      <td>song_j</td>\n",
              "    </tr>\n",
              "  </tbody>\n",
              "</table>\n",
              "</div>"
            ],
            "text/plain": [
              "   singer_code singer_name song_name\n",
              "0            0    singer_a       NaN\n",
              "1            1    singer_b       NaN\n",
              "2            2    singer_c       NaN\n",
              "3            3    singer_d       NaN\n",
              "4            4    singer_e       NaN\n",
              "0            2         NaN    song_f\n",
              "1            2         NaN    song_g\n",
              "2            3         NaN    song_h\n",
              "3            4         NaN    song_i\n",
              "4            5         NaN    song_j"
            ]
          },
          "metadata": {
            "tags": []
          },
          "execution_count": 14
        }
      ]
    },
    {
      "cell_type": "code",
      "metadata": {
        "id": "Vl9AMEya_2Fb",
        "outputId": "5035d75a-7587-41f2-a4cc-ec4b363f4186"
      },
      "source": [
        "# concat horizontally\n",
        "pd.concat([singers, songs], axis=1)"
      ],
      "execution_count": null,
      "outputs": [
        {
          "output_type": "execute_result",
          "data": {
            "text/html": [
              "<div>\n",
              "<style scoped>\n",
              "    .dataframe tbody tr th:only-of-type {\n",
              "        vertical-align: middle;\n",
              "    }\n",
              "\n",
              "    .dataframe tbody tr th {\n",
              "        vertical-align: top;\n",
              "    }\n",
              "\n",
              "    .dataframe thead th {\n",
              "        text-align: right;\n",
              "    }\n",
              "</style>\n",
              "<table border=\"1\" class=\"dataframe\">\n",
              "  <thead>\n",
              "    <tr style=\"text-align: right;\">\n",
              "      <th></th>\n",
              "      <th>singer_code</th>\n",
              "      <th>singer_name</th>\n",
              "      <th>singer_code</th>\n",
              "      <th>song_name</th>\n",
              "    </tr>\n",
              "  </thead>\n",
              "  <tbody>\n",
              "    <tr>\n",
              "      <th>0</th>\n",
              "      <td>0</td>\n",
              "      <td>singer_a</td>\n",
              "      <td>2</td>\n",
              "      <td>song_f</td>\n",
              "    </tr>\n",
              "    <tr>\n",
              "      <th>1</th>\n",
              "      <td>1</td>\n",
              "      <td>singer_b</td>\n",
              "      <td>2</td>\n",
              "      <td>song_g</td>\n",
              "    </tr>\n",
              "    <tr>\n",
              "      <th>2</th>\n",
              "      <td>2</td>\n",
              "      <td>singer_c</td>\n",
              "      <td>3</td>\n",
              "      <td>song_h</td>\n",
              "    </tr>\n",
              "    <tr>\n",
              "      <th>3</th>\n",
              "      <td>3</td>\n",
              "      <td>singer_d</td>\n",
              "      <td>4</td>\n",
              "      <td>song_i</td>\n",
              "    </tr>\n",
              "    <tr>\n",
              "      <th>4</th>\n",
              "      <td>4</td>\n",
              "      <td>singer_e</td>\n",
              "      <td>5</td>\n",
              "      <td>song_j</td>\n",
              "    </tr>\n",
              "  </tbody>\n",
              "</table>\n",
              "</div>"
            ],
            "text/plain": [
              "   singer_code singer_name  singer_code song_name\n",
              "0            0    singer_a            2    song_f\n",
              "1            1    singer_b            2    song_g\n",
              "2            2    singer_c            3    song_h\n",
              "3            3    singer_d            4    song_i\n",
              "4            4    singer_e            5    song_j"
            ]
          },
          "metadata": {
            "tags": []
          },
          "execution_count": 15
        }
      ]
    },
    {
      "cell_type": "markdown",
      "metadata": {
        "id": "jH-ZMrLj_2Fc"
      },
      "source": [
        "When computing descriptive statistic, we usually need to aggregate data by each group. For example, to answer the question \"how many songs each singer has?\", we have to group data by each singer, and then calculate the number of songs in each group. Not that the result must contain the statistic of all singers in database (even if some of them have no song)"
      ]
    },
    {
      "cell_type": "code",
      "metadata": {
        "id": "gr8ETJV6_2Fc",
        "outputId": "676deded-ff20-46d7-e847-b5d49bbd604d"
      },
      "source": [
        "data = pd.merge(singers, songs, on='singer_code', how='left')\n",
        "\n",
        "# count the values of each column in group\n",
        "print(data.groupby('singer_code').count())\n",
        "\n",
        "print(\"\\n\")\n",
        "\n",
        "# count only song_name\n",
        "print(data.groupby('singer_code').song_name.count())\n",
        "\n",
        "print(\"\\n\")\n",
        "\n",
        "# count song name but ignore duplication, and order the result\n",
        "print(data.groupby('singer_code').song_name.nunique().sort_values(ascending=True))"
      ],
      "execution_count": null,
      "outputs": [
        {
          "output_type": "stream",
          "text": [
            "             singer_name  song_name\n",
            "singer_code                        \n",
            "0                      1          0\n",
            "1                      1          0\n",
            "2                      2          2\n",
            "3                      1          1\n",
            "4                      1          1\n",
            "\n",
            "\n",
            "singer_code\n",
            "0    0\n",
            "1    0\n",
            "2    2\n",
            "3    1\n",
            "4    1\n",
            "Name: song_name, dtype: int64\n",
            "\n",
            "\n",
            "singer_code\n",
            "0    0\n",
            "1    0\n",
            "3    1\n",
            "4    1\n",
            "2    2\n",
            "Name: song_name, dtype: int64\n"
          ],
          "name": "stdout"
        }
      ]
    },
    {
      "cell_type": "markdown",
      "metadata": {
        "id": "6SZvCOtP_2Fd"
      },
      "source": [
        "### Question 4\n",
        "We have two datasets about music: *song* and *album*.\n",
        "\n",
        "In the following questions, you **have to** use Pandas to load data and write code to answer these questions.\n",
        "\n",
        "\n",
        "#### Question 4.1\n",
        "<div class=\"alert alert-info\">\n",
        "Load both dataset into two dataframes and print the information of each dataframe\n",
        "\n",
        "**HINT**: \n",
        "\n",
        "- You can click button `Raw` on the github page of each dataset and copy the URL of the raw file.\n",
        "- The dataset can be load by using function `read_table`. For example: `df = pd.read_table(raw_url, sep='\\t')`\n",
        "</div>"
      ]
    },
    {
      "cell_type": "code",
      "metadata": {
        "id": "3Q6fjxl8_2Fd",
        "outputId": "996bb1f2-5aba-4242-cf1d-c2dd0f97e69b"
      },
      "source": [
        "\n",
        "import pandas as pd\n",
        "\n",
        "songdb_url = 'https://raw.githubusercontent.com/EURECOM-CLOUDS-COURSE/Introduction/master/song.tsv'\n",
        "albumdb_url = 'https://raw.githubusercontent.com/EURECOM-CLOUDS-COURSE/Introduction/master/album.tsv'\n",
        "song_df = pd.read_table(songdb_url, sep='\\t')\n",
        "album_df = pd.read_table(albumdb_url, sep='\\t')\n",
        "\n",
        "print(song_df)\n",
        "print(album_df)\n"
      ],
      "execution_count": null,
      "outputs": [
        {
          "output_type": "stream",
          "text": [
            "            Singer                  Song  Album Length\n",
            "0  Michael Jackson                 2 bad    1.0   4:07\n",
            "1  Michael Jackson           Unbreakable    2.0   6:26\n",
            "2  Michael Jackson       Don't Walk Away    2.0   4:25\n",
            "3  Michael Jackson         Break of Dawn    2.0   5:33\n",
            "4     Taylor Swift          All Too Well    5.0   5:29\n",
            "5     Taylor Swift             Bad Blood    7.0   3:19\n",
            "6     Taylor Swift      Back to December    6.0   4:54\n",
            "7  Michael Jackson          Human Nature    4.0   4:06\n",
            "8  Michael Jackson          Baby Be Mine    4.0   4:20\n",
            "9  Michael Jackson  What More Can I Give    NaN   3:36\n",
            "   Album code                                 Album name  Year\n",
            "0           1  HIStory: Past, Present and Future, Book I  1995\n",
            "1           2                                 Invincible  2001\n",
            "2           3                                        Bad  1986\n",
            "3           4                                   Thriller  1982\n",
            "4           5                                        Red  2012\n",
            "5           6                                  Speak Now  2010\n",
            "6           7                                       1989  2014\n"
          ],
          "name": "stdout"
        }
      ]
    },
    {
      "cell_type": "markdown",
      "metadata": {
        "id": "hMj5vThE_2Fe"
      },
      "source": [
        "#### Question 4.2\n",
        "<div class=\"alert alert-info\">\n",
        "How many albums in this datasets ?\n",
        "\n",
        "How many songs in this datasets ?\n",
        "</div>"
      ]
    },
    {
      "cell_type": "code",
      "metadata": {
        "id": "jMXRE-ze_2Ff",
        "outputId": "a294cdf0-8990-445f-bad2-d89507e7486d"
      },
      "source": [
        "\n",
        "print(\"number of albums:\", album_df[\"Album name\"].count())\n",
        "print(\"number of songs:\", song_df[\"Song\"].count())\n"
      ],
      "execution_count": null,
      "outputs": [
        {
          "output_type": "stream",
          "text": [
            "number of albums: 7\n",
            "number of songs: 10\n"
          ],
          "name": "stdout"
        }
      ]
    },
    {
      "cell_type": "markdown",
      "metadata": {
        "id": "ek8CwjeJ_2Ff"
      },
      "source": [
        "#### Question 4.3\n",
        "<div class=\"alert alert-info\">\n",
        "How many distinct singers in this dataset ?\n",
        "</div>"
      ]
    },
    {
      "cell_type": "code",
      "metadata": {
        "id": "5zKrNfI__2Fg",
        "outputId": "e16f347b-8402-482a-8309-9cadfdeee547"
      },
      "source": [
        "\n",
        "print(\"number distinct singers:\", song_df[\"Singer\"].nunique())"
      ],
      "execution_count": null,
      "outputs": [
        {
          "output_type": "stream",
          "text": [
            "number distinct singers: 2\n"
          ],
          "name": "stdout"
        }
      ]
    },
    {
      "cell_type": "markdown",
      "metadata": {
        "id": "R0FIOwYm_2Fg"
      },
      "source": [
        "#### Question 4.4\n",
        "<div class=\"alert alert-info\">\n",
        "Is there any song that doesn't belong to any album ?\n",
        "\n",
        "Is there any album that has no song ?\n",
        "\n",
        "**HINT**: \n",
        "\n",
        "- To join two datasets on different key names, we use `left_on=` and `right_on=` instead of `on=`.\n",
        "- Funtion `notnull` and `isnull` help determining the value of a column is missing or not. For example:\n",
        "`df['song'].isnull()`.\n",
        "</div>"
      ]
    },
    {
      "cell_type": "code",
      "metadata": {
        "id": "GROc5nV3_2Fh",
        "outputId": "6e14efbf-bd6f-450e-fa3c-fce234c96b30"
      },
      "source": [
        "\n",
        "fulldf = pd.merge(song_df, album_df, how='outer', left_on='Album', right_on='Album code')\n",
        "fulldf[fulldf['Song'].notnull() & fulldf['Album'].isnull()]\n",
        "\n",
        "print(fulldf)\n"
      ],
      "execution_count": null,
      "outputs": [
        {
          "output_type": "stream",
          "text": [
            "             Singer                  Song  Album Length  Album code  \\\n",
            "0   Michael Jackson                 2 bad    1.0   4:07         1.0   \n",
            "1   Michael Jackson           Unbreakable    2.0   6:26         2.0   \n",
            "2   Michael Jackson       Don't Walk Away    2.0   4:25         2.0   \n",
            "3   Michael Jackson         Break of Dawn    2.0   5:33         2.0   \n",
            "4      Taylor Swift          All Too Well    5.0   5:29         5.0   \n",
            "5      Taylor Swift             Bad Blood    7.0   3:19         7.0   \n",
            "6      Taylor Swift      Back to December    6.0   4:54         6.0   \n",
            "7   Michael Jackson          Human Nature    4.0   4:06         4.0   \n",
            "8   Michael Jackson          Baby Be Mine    4.0   4:20         4.0   \n",
            "9   Michael Jackson  What More Can I Give    NaN   3:36         NaN   \n",
            "10              NaN                   NaN    NaN    NaN         3.0   \n",
            "\n",
            "                                   Album name    Year  \n",
            "0   HIStory: Past, Present and Future, Book I  1995.0  \n",
            "1                                  Invincible  2001.0  \n",
            "2                                  Invincible  2001.0  \n",
            "3                                  Invincible  2001.0  \n",
            "4                                         Red  2012.0  \n",
            "5                                        1989  2014.0  \n",
            "6                                   Speak Now  2010.0  \n",
            "7                                    Thriller  1982.0  \n",
            "8                                    Thriller  1982.0  \n",
            "9                                         NaN     NaN  \n",
            "10                                        Bad  1986.0  \n"
          ],
          "name": "stdout"
        }
      ]
    },
    {
      "cell_type": "code",
      "metadata": {
        "id": "Ftj47mRg_2Fh",
        "outputId": "939cd455-3dc3-4a45-b61a-3150bae3861f"
      },
      "source": [
        "\n",
        "fulldf[fulldf['Song'].isnull() & fulldf['Album code'].notnull()]\n"
      ],
      "execution_count": null,
      "outputs": [
        {
          "output_type": "execute_result",
          "data": {
            "text/html": [
              "<div>\n",
              "<style scoped>\n",
              "    .dataframe tbody tr th:only-of-type {\n",
              "        vertical-align: middle;\n",
              "    }\n",
              "\n",
              "    .dataframe tbody tr th {\n",
              "        vertical-align: top;\n",
              "    }\n",
              "\n",
              "    .dataframe thead th {\n",
              "        text-align: right;\n",
              "    }\n",
              "</style>\n",
              "<table border=\"1\" class=\"dataframe\">\n",
              "  <thead>\n",
              "    <tr style=\"text-align: right;\">\n",
              "      <th></th>\n",
              "      <th>Singer</th>\n",
              "      <th>Song</th>\n",
              "      <th>Album</th>\n",
              "      <th>Length</th>\n",
              "      <th>Album code</th>\n",
              "      <th>Album name</th>\n",
              "      <th>Year</th>\n",
              "    </tr>\n",
              "  </thead>\n",
              "  <tbody>\n",
              "    <tr>\n",
              "      <th>10</th>\n",
              "      <td>NaN</td>\n",
              "      <td>NaN</td>\n",
              "      <td>NaN</td>\n",
              "      <td>NaN</td>\n",
              "      <td>3.0</td>\n",
              "      <td>Bad</td>\n",
              "      <td>1986.0</td>\n",
              "    </tr>\n",
              "  </tbody>\n",
              "</table>\n",
              "</div>"
            ],
            "text/plain": [
              "   Singer Song  Album Length  Album code Album name    Year\n",
              "10    NaN  NaN    NaN    NaN         3.0        Bad  1986.0"
            ]
          },
          "metadata": {
            "tags": []
          },
          "execution_count": 21
        }
      ]
    },
    {
      "cell_type": "markdown",
      "metadata": {
        "id": "7CcgDkPD_2Fi"
      },
      "source": [
        "#### Question 4.5\n",
        "<div class=\"alert alert-info\">\n",
        "How many songs in each albums of Michael Jackson ?\n",
        "</div>"
      ]
    },
    {
      "cell_type": "code",
      "metadata": {
        "id": "1MF8YdH1_2Fi"
      },
      "source": [
        "\n",
        "\n",
        "# Try thinking like as for map reduce word count!!\n",
        "\n",
        "fulldf[fulldf['Singer']=='Michael Jackson'].count()\n"
      ],
      "execution_count": null,
      "outputs": []
    },
    {
      "cell_type": "markdown",
      "metadata": {
        "id": "XSI2ABaO_2Fi"
      },
      "source": [
        "# 3. PySpark\n",
        "\n",
        "Spark is an alternative framework to Hadoop MapReduce, designed to make it easier and quicker to build and run distributed data manipulation algorithms. Spark comes with a library for machine learning (MLLib) and graph algorithms, and also supports real-time streaming and SQL syntax, via Spark Streaming and SparkSQL, respectively. Spark exposes the Spark programming model to Java, Scala, or Python. In Python, we use the PySpark API to interact with Spark.\n",
        "\n",
        "As discussed in the CLOUDS lectures, every Spark application has a Spark driver. It is the program that declares the transformations and actions on RDDs of data and submits such requests to the cluster manager. Actually, the driver is the program that creates the `SparkContext`, connecting to a given cluster manager such as  Spark Master, YARN or others. The executors run user code, run computations and can cache data for your application. The `SparkContext` will create a job that is broken into stages. The stages are broken into tasks which are scheduled by the SparkContext on an executor.\n",
        "\n",
        "When starting PySpark with command `pyspark` or using a well configured notebook (such as this one), `SparkContext` is created automatically in variable `sc`. \n"
      ]
    },
    {
      "cell_type": "code",
      "metadata": {
        "id": "s7U4ff5M_2Fj",
        "outputId": "92dc116d-8f57-4565-c59e-59b48ad85e9c"
      },
      "source": [
        "sc"
      ],
      "execution_count": null,
      "outputs": [
        {
          "output_type": "execute_result",
          "data": {
            "text/html": [
              "\n",
              "        <div>\n",
              "            <p><b>SparkContext</b></p>\n",
              "\n",
              "            <p><a href=\"http://10.5.61.4:4040\">Spark UI</a></p>\n",
              "\n",
              "            <dl>\n",
              "              <dt>Version</dt>\n",
              "                <dd><code>v2.2.2</code></dd>\n",
              "              <dt>Master</dt>\n",
              "                <dd><code>spark://spark-master0-88830-prod:7077</code></dd>\n",
              "              <dt>AppName</dt>\n",
              "                <dd><code>pyspark-shell</code></dd>\n",
              "            </dl>\n",
              "        </div>\n",
              "        "
            ],
            "text/plain": [
              "<SparkContext master=spark://spark-master0-88830-prod:7077 appName=pyspark-shell>"
            ]
          },
          "metadata": {
            "tags": []
          },
          "execution_count": 1
        }
      ]
    },
    {
      "cell_type": "markdown",
      "metadata": {
        "id": "x3WEgbyq_2Fj"
      },
      "source": [
        "PySpark uses PySpark RDDs which  are just RDDs of Python objects: like Python lists, they can store objects with mixed types (actually all the objects are instances of `PyObject`).\n",
        "\n",
        "When PySpark is started, it also starts a JVM, which is accessible through a socket. PySpark uses `Py4J` to handle this communication. The JVM works as the actual Spark driver, and loads a `JavaSparkContext` that communicates with the Spark executors across the cluster. Python API calls to the Spark Context object are then **translated into Java API calls** to the JavaSparkContext. For example, the implementation of PySpark's `sc.textFile()` dispatches a call to the `.textFile` method of the `JavaSparkContext`, which ultimately communicates with the Spark executor JVMs to load the text data from HDFS. \n",
        "\n",
        "![](http://i.imgur.com/YlI8AqEl.png)\n",
        "\n",
        "The Spark executors on the cluster start a Python interpreter for each core, with which they communicate data through a pipe when they need to execute user-code. A Python RDD in the local PySpark client corresponds to a `PythonRDD` object in the local JVM. The data associated with the RDD actually lives in the Spark JVMs as Java objects. For example, running `sc.textFile()` in the Python interpreter will call the `JavaSparkContexts` `textFile` method, which loads the data as Java String objects in the cluster.\n",
        "\n",
        "\n",
        "When an API call is made on the `PythonRDD`, any associated code (e.g., Python lambda function) **is serialized and distributed to the executors**. The data is then converted from Java objects to a Python-compatible representation (e.g., pickle objects) and streamed to executor-associated Python interpreters through a pipe. Any necessary Python processing is executed in the interpreter, and the resulting data is stored back as an RDD (as pickle objects by default) in the JVMs. \n"
      ]
    },
    {
      "cell_type": "markdown",
      "metadata": {
        "id": "vb6foWRu_2Fk"
      },
      "source": [
        "The data is read easily by using functions of Spark Context. For example, to read a text file and count the number of lines, we can write:\n"
      ]
    },
    {
      "cell_type": "code",
      "metadata": {
        "id": "yPGi7d-L_2Fk",
        "outputId": "8cc62d72-144f-474b-a483-d9c0bd76c7b5"
      },
      "source": [
        "# each line is stored as an element in 'input_file' - a PythonRDD.\n",
        "input_file = sc.textFile(\"/datasets/gutenberg/gutenberg_tiny.txt\")\n",
        "num_lines = input_file.count()\n",
        "print(\"The number of lines in the input file is:\", num_lines)"
      ],
      "execution_count": null,
      "outputs": [
        {
          "output_type": "stream",
          "text": [
            "The number of lines in the input file is: 745613\n"
          ],
          "name": "stdout"
        }
      ]
    },
    {
      "cell_type": "markdown",
      "metadata": {
        "id": "Z91CXEVC_2Fl"
      },
      "source": [
        "## 3.0. Preliminaries: working with HDFS and using the Apache Spark Web UI to inspect jobs, tasks and many more metrics\n",
        "\n",
        "Alright, so we have run our first Apache Spark program, and we learned how many lines it contains. But can we obtain some more information about this file? This is what we are going to do next.\n",
        "\n",
        "As a side note, the reason why we are interested in learning more about our file is that it allows us to understand how the Apache Spark job operates on it. Specifically, we want to learn about its tasks, their performance, and many more interesting metrics and figures, such as for example the Directed Acyclic Graph representing the job. This kind of exercise is highly connected to the content we learned in class, and it's a good way to put in practice some notions that would otherwise remain only theoretical.\n",
        "\n",
        "Since Apache Spark jobs generally operate on an input file, and that the way this file is stored determines to a large extent the degree of parallelism we can achieve with our Spark program, let's first focus on a few commands to interrogate the HDFS Name Node."
      ]
    },
    {
      "cell_type": "markdown",
      "metadata": {
        "id": "g5ggoV28_2Fl"
      },
      "source": [
        "### Working with HDFS\n",
        "A comfortable way to work with HDFS, albeit a bit geeky, is to use the command line. The nice thing about your Jupyter environment is that you can launch a terminal, which will give you access to one of the containers running your environment (the one where the Jupyter Notebook is running).\n",
        "\n",
        "Next, we will look at our home directory in HDFS. Open up a terminal, or alternatively use some magic functions from the Notebook, and type the following command:\n",
        "\n",
        "```\n",
        "! hdfs dfs ls\n",
        "```\n",
        "\n",
        "NOTE: you'll probably land on an empty directory, as this is the first time you're using our system."
      ]
    },
    {
      "cell_type": "markdown",
      "metadata": {
        "id": "ycmew1xR_2Fl"
      },
      "source": [
        "Next, we'll have a look at the directory we've used for the simple line count example from above:\n",
        "\n",
        "```\n",
        "! hdfs dfs ls /datasets/gutenberg\n",
        "```"
      ]
    },
    {
      "cell_type": "markdown",
      "metadata": {
        "id": "XghjiPTh_2Fm"
      },
      "source": [
        "### Question 3.1\n",
        "<div class=\"alert alert-info\">\n",
        "Using the hdfs command, inspect the file we've used before, located in /datasets/gutenberg/gutenberg_tiny.txt\n",
        "</div>\n",
        "\n",
        "\n",
        "* How many HDFS blocks constitute our file?\n",
        "* Where are they located?\n",
        "* What is the replication factor of our file?\n",
        "\n",
        "**Hint**: you should lookup for the HDFS command line documentation to learn how to answer the questions above. Look for the sub-command called ```fsck```."
      ]
    },
    {
      "cell_type": "markdown",
      "metadata": {
        "id": "U26-43YF_2Fm"
      },
      "source": [
        "### Reponses:\n",
        "<div class=\"alert alert-info\">Commande line: hdfs fsck /file.txt -files -blocks -locations</div>\n",
        "\n",
        "* 1 block constitute our file\n",
        "* located at \"/datasets/gutenberg/gutenberg_tiny.txt\"\n",
        "* 3 Replication factor\n"
      ]
    },
    {
      "cell_type": "markdown",
      "metadata": {
        "id": "QB7DQEQi_2Fm"
      },
      "source": [
        "### Working with the Apache Spark Web UI\n",
        "Next, we'll spend some time trying to understand the execution of our job. This requires a good grip on the notions you've learned in class, so you're invited to revise the lecture on Apache Spark.\n",
        "\n",
        "The Apache Spark Web UI can be used to dissect the life of a job execution.\n",
        "\n",
        "* Using the link available from the endpoints that Zoe created for you, open the Web UI: to be precise, we will use the Spark Mater Web UI, which gives you a broad view of your cluster, executors, and jobs.\n",
        "* You'll see information about the worker machines of your cluster (number of cores, available memory, ...), and a list of applications. You'll see one running application, corresponding to the pyspark shell connected to your Jupyter Notebook. Click on its Application ID to inspect all the jobs this application has run.\n",
        "* You will land on a general page with a summary of your pyspark shell application. Follow the *Application Detail UI*.\n",
        "\n",
        "If this is the first time you execute the Notebook cell with the simple \"line counting\" job, you will see a single item in the job list. Pay attention to the job name: it corresponds to the name of the **Action** that fired the job, that is, the ```count``` action. At this level, you only see a coarse job summary: its submission time, its duration, and so on.\n",
        "\n",
        "* Click on the job description. You will land on a page with a great deal of details about your job, starting with its stages (remember, jobs are made of stages, that are in turn made of tasks).\n",
        "* Expand the sections about the **Event Timeline** and the **DAG visualization**.\n",
        "* Next, click on the job stage with the same name as the **Action** ```count``` we specified in our code\n"
      ]
    },
    {
      "cell_type": "markdown",
      "metadata": {
        "id": "HgaEmwhZ_2Fm"
      },
      "source": [
        "### Question 3.2\n",
        "<div class=\"alert alert-info\">\n",
        "Using the Apache Spark Web UI, as explained above, answer the following questions:\n",
        "</div>\n",
        "\n",
        "* How many tasks were launched?\n",
        "* What is the duration of each task?\n",
        "* Hown many input bytes where processed by each task? How does this relate to the input file size?\n",
        "* How many workers in total does your cluster have? How many workers were involved in your \"line count\" job?\n",
        "* Given that we know how many HDFS blocks compose our input file (from Question 3.1), explain the number of tasks your job is broken into.\n",
        "\n"
      ]
    },
    {
      "cell_type": "markdown",
      "metadata": {
        "id": "DuR-BqjH_2Fn"
      },
      "source": [
        "### Reponse 3.2\n",
        "<div class=\"alert alert-info\">\n",
        "From the Apache Spark Web UI, we can see:\n",
        "   <img src=\"executors.png\" />\n",
        "</div>\n",
        "\n",
        "* 2 Tasks were launched in total, one per worker\n",
        "* Task 1 duration were 4s, while it was 3s for the second task\n",
        "* Each task processed 15.7 MB, while the total input file size is 31.5 MB meaning each task processed 50% of the file… the load balance is 50/50 between the workers.\n",
        "* The cluster have 2 workers in total, both of them were involved in the \"line count\" job\n",
        "* If we run one command only, the line counting and disable the HDFS command, we will notice that the number of tasks is still 2 but only one worker is involved. We tried to find the reason why the job is split into 2 tasks, we found on google that this is done automatically as this is the minimum number of tasks.\n",
        "<div class=\"alert alert-info\">\n",
        "   <img src=\"cl.png\" />\n",
        "</div>\n",
        "\n"
      ]
    },
    {
      "cell_type": "markdown",
      "metadata": {
        "id": "n6rW-_bH_2Fn"
      },
      "source": [
        "## 3.1. Wordcount example\n",
        "In the example below, we are interested in the top-10 words in terms of frequency of occurrence. To do so, we use a small text file as an input, and we wish to plot the term frequency of such top-10 words using Matplotlib.\n",
        "\n",
        "First, using the method `textFile` from the SparkContext `sc`, we create a RDD of strings. Each string in the RDD is representative for a line in the text file. In a loose way, we can think the first RDD is a RDD of lines. \n",
        "\n",
        "Because we work on the scope of words, we have to transform **a line** of the current RDD into **multiple words**, each word is an object of the new RDD. This is done by using `flatMap` function. \n",
        "\n",
        "Then, a `map` function transforms **each word** in the RDD into **a single** tuple with 2 components: the word itself and the count of 1. As you might have guessed, this is a PairRDD, where each object is a key-value pair. \n",
        "\n",
        "We can take advantage of function `reduceByKey` to sum all frequencies of the same word. Now, each element in the RDD is in the form of: (word, total_frequency). To sort the words by frequency of occurrence, we can use many approaches. One of the simplest approach is swap each tuple such that the frequency becomes the key, and use the `sortByKey` function."
      ]
    },
    {
      "cell_type": "code",
      "metadata": {
        "id": "xKXPDBg3_2Fn"
      },
      "source": [
        "words = (\n",
        "            # read the text file\n",
        "            sc.textFile(\"/datasets/gutenberg/gutenberg_small.txt\").repartition(16)\n",
        "            \n",
        "            # construct words from lines\n",
        "            .flatMap(lambda line: line.split())\n",
        "            \n",
        "            # map each word to (word, 1)\n",
        "            .map(lambda x: (x, 1))\n",
        "    \n",
        "            # reduce by key: accumulate sum the freq of the same word\n",
        "            .reduceByKey(lambda freq1, freq2: freq1 + freq2)\n",
        "            \n",
        "            # swap (word, freq) to (freq, word)\n",
        "            .map(lambda x: (x[1], x[0]))\n",
        "    \n",
        "            # sort result by key DESC\n",
        "            .sortByKey(False)\n",
        "         )"
      ],
      "execution_count": null,
      "outputs": []
    },
    {
      "cell_type": "markdown",
      "metadata": {
        "id": "LfLWzH_2_2Fo"
      },
      "source": [
        "### Question 3.3\n",
        "<div class=\"alert alert-info\">\n",
        "Using both the terminal and the Apache Spark Web UI, as explained above, answer the following questions:\n",
        "</div>\n",
        "\n",
        "* What is the size of the input file?\n",
        "* How many blocks the input file is broken into? What is the block size?\n",
        "* How many tasks execute in parallel?\n",
        "* How many jobs were launched upon the execution of the code above? Why (note that there are no actions!)?\n",
        "* What does a **\"skipped\"** stage mean?\n",
        "* What is the number of shuffled bytes? How does this compare to the number of input bytes?\n",
        "* Do you think Spark is doing a good job in balancing the load across the workers? What can go wrong with load balancing?"
      ]
    },
    {
      "cell_type": "markdown",
      "metadata": {
        "id": "5UWNPAK6_2Fo"
      },
      "source": [
        "### Reponse 3.3\n",
        "Command line: hdfs fsck /file.txt -files -blocks -locations\n",
        "<div class=\"alert alert-info\">\n",
        "   <img src=\"cl1.png\" />\n",
        "</div>\n",
        "* Our file size is: 3 GB\n",
        "* Our input file is broken into 23 blocks, the block size is 1.3 GB\n",
        "<div class=\"alert alert-info\">\n",
        "   <img src=\"cl3.png\" />\n",
        "</div>\n",
        "* It execute 71 tasks in parallel(36 for worker 0 and 35 for the worker 1), 35 out of the 71 tasks were skipped.\n",
        "* 2 jobs were launched upon the execution of the code above.\n",
        "* It means that data has been fetched form cash and there was no need to re-execute given stage. It is consistent with the DAG which shows that the next stage requires shuffling (reduceByKey)\n",
        "* 33.9 MB shuffled bytes / 94802 records per minute the input size is  2.8 GB / 60228740 records Which means it took 82 seconds to process the input\n",
        "\n",
        "* Yes, it's doing good by splitting the load into 50/50 between the workers."
      ]
    },
    {
      "cell_type": "markdown",
      "metadata": {
        "id": "9i86LSqs_2Fo"
      },
      "source": [
        "Now the top-10 words are collected and sent back to the driver by using function `take`."
      ]
    },
    {
      "cell_type": "code",
      "metadata": {
        "id": "n7ZyIsWr_2Fo",
        "outputId": "29aae3f8-6c3c-45c5-b772-8dfb2dd82071"
      },
      "source": [
        "# top 10 words:\n",
        "top10 = words.take(10)\n",
        "print(top10)"
      ],
      "execution_count": null,
      "outputs": [
        {
          "output_type": "stream",
          "text": [
            "[(29556020, 'the'), (18043957, 'of'), (14914748, 'and'), (12892052, 'to'), (9779124, 'a'), (8568854, 'in'), (5143447, 'that'), (4824456, 'was'), (4156700, 'I'), (3915358, 'with')]\n"
          ],
          "name": "stdout"
        }
      ]
    },
    {
      "cell_type": "markdown",
      "metadata": {
        "id": "yQzkdmmz_2Fp"
      },
      "source": [
        "The action `collect` gathers all elements of the RDD (that reside on multiple machines) to the driver (which is running in a single machine), and cast it as a list.\n",
        "\n",
        "**ATTENTION** collecting an RDD in the driver can be problematic: indeed, an RDD can be very big in size (this is why they are distributed across several machines in the first place!) and thus it could deplete the RAM available in the machine running the driver!"
      ]
    },
    {
      "cell_type": "code",
      "metadata": {
        "id": "hPIrkVQg_2Fp"
      },
      "source": [
        "# collect results from executors to the driver\n",
        "# results = words.collect()\n",
        "# If you want to have a look at the results, don't print them all, for otherwise the notebook size will be too big"
      ],
      "execution_count": null,
      "outputs": []
    },
    {
      "cell_type": "markdown",
      "metadata": {
        "id": "auNDP0EH_2Fp"
      },
      "source": [
        "Recall that there are two kinds of functions in Spark: **transformations** and **actions**. All functions `map`, `flatMap`, `reduceByKey`, `sortByKey` are transformation functions. They are not executed right away when called. Indeed, Spark is lazily evaluated, so nothing gets executed unless the driver invokes actions such as `count`, `take`, `collect`...\n",
        "\n",
        "RDD transformations allow us to create dependencies between RDDs. Each RDD in the lineage chain (string of dependencies) has a function for calculating its data and has a pointer (dependency) to its parent RDD. Every time we use an RDD, dependencies are computed again from the beginning, which can be costly. Fortunately, we can use the function `cache` to instruct Spark to checkpoint in RAM (but eventually also on disk) a particular RDD."
      ]
    },
    {
      "cell_type": "markdown",
      "metadata": {
        "id": "VMmNRMJi_2Fq"
      },
      "source": [
        "Let's now use the previous results from the execution of our simple Spark word count job, to plot word frequency information."
      ]
    },
    {
      "cell_type": "code",
      "metadata": {
        "id": "3o_uYY0e_2Fq",
        "outputId": "73694798-e179-4ae4-e40c-9a0e764b5d34"
      },
      "source": [
        "%matplotlib inline\n",
        "import matplotlib.pyplot as plt\n",
        "\n",
        "# extract the frequencies from the result\n",
        "frequencies = [x[0] for x in top10]\n",
        "\n",
        "# plot the frequencies\n",
        "plt.plot(frequencies)\n",
        "plt.show()"
      ],
      "execution_count": null,
      "outputs": [
        {
          "output_type": "display_data",
          "data": {
            "image/png": "[encoded data removed]",
            "text/plain": [
              "<Figure size 432x288 with 1 Axes>"
            ]
          },
          "metadata": {
            "tags": []
          }
        }
      ]
    },
    {
      "cell_type": "markdown",
      "metadata": {
        "id": "nuhQeB8G_2Fq"
      },
      "source": [
        "## 3.2. Night flights example\n",
        "We have a CSV file which contains the information about flights that took place in the US in 1994.\n",
        "The data in this file has 29 columns such as `year`, `month`, `day_of_month`, `scheduled_departure_time`,...\n",
        "We can have a quick look on the data:"
      ]
    },
    {
      "cell_type": "code",
      "metadata": {
        "id": "3dui1W7Q_2Fq",
        "outputId": "c99eb99f-af51-482b-e953-55695036a4d7"
      },
      "source": [
        "! hdfs dfs -cat /datasets/airline/1994.csv | head -n 10"
      ],
      "execution_count": null,
      "outputs": [
        {
          "output_type": "stream",
          "text": [
            "Year,Month,DayofMonth,DayOfWeek,DepTime,CRSDepTime,ArrTime,CRSArrTime,UniqueCarrier,FlightNum,TailNum,ActualElapsedTime,CRSElapsedTime,AirTime,ArrDelay,DepDelay,Origin,Dest,Distance,TaxiIn,TaxiOut,Cancelled,CancellationCode,Diverted,CarrierDelay,WeatherDelay,NASDelay,SecurityDelay,LateAircraftDelay\n",
            "1994,1,7,5,858,900,954,1003,US,227,NA,56,63,NA,-9,-2,CLT,ORF,290,NA,NA,0,NA,0,NA,NA,NA,NA,NA\n",
            "1994,1,8,6,859,900,952,1003,US,227,NA,53,63,NA,-11,-1,CLT,ORF,290,NA,NA,0,NA,0,NA,NA,NA,NA,NA\n",
            "1994,1,10,1,935,900,1023,1003,US,227,NA,48,63,NA,20,35,CLT,ORF,290,NA,NA,0,NA,0,NA,NA,NA,NA,NA\n",
            "1994,1,11,2,903,900,1131,1003,US,227,NA,148,63,NA,88,3,CLT,ORF,290,NA,NA,0,NA,0,NA,NA,NA,NA,NA\n",
            "1994,1,12,3,933,900,1024,1003,US,227,NA,51,63,NA,21,33,CLT,ORF,290,NA,NA,0,NA,0,NA,NA,NA,NA,NA\n",
            "1994,1,13,4,NA,900,NA,1003,US,227,NA,NA,63,NA,NA,NA,CLT,ORF,290,NA,NA,1,NA,0,NA,NA,NA,NA,NA\n",
            "1994,1,14,5,903,900,1005,1003,US,227,NA,62,63,NA,2,3,CLT,ORF,290,NA,NA,0,NA,0,NA,NA,NA,NA,NA\n",
            "1994,1,15,6,859,900,1004,1003,US,227,NA,65,63,NA,1,-1,CLT,ORF,290,NA,NA,0,NA,0,NA,NA,NA,NA,NA\n",
            "1994,1,17,1,859,900,955,1003,US,227,NA,56,63,NA,-8,-1,CLT,ORF,290,NA,NA,0,NA,0,NA,NA,NA,NA,NA\n",
            "cat: Unable to write to output stream.\n"
          ],
          "name": "stdout"
        }
      ]
    },
    {
      "cell_type": "markdown",
      "metadata": {
        "id": "9mJ5tYUI_2Fr"
      },
      "source": [
        "In this simple example, we are interested only in columns: `CRSDepTime` (scheduled departure time) and `UniqueCarrier` (carrier identifier). The values of `CRSDepTime` are expressed in the format: hhmm (hour-minute).\n",
        "Assume that a flight is considered as a 'night flight' if its scheduled departed time `CRSDepTime` is later than 18:00.\n",
        "\n",
        "Questions:\n",
        "\n",
        "- How many night flights do we have in our data ?\n",
        "- How many night flights per unique carrier ? Plot the top-5 of them, in terms of volume\n",
        "\n",
        "First, we read the data and remove the header. Then, from the lines, we extract the information of scheduled departure time and carrier."
      ]
    },
    {
      "cell_type": "markdown",
      "metadata": {
        "id": "KQBaE8_E_2Fr"
      },
      "source": [
        "Answers:\n",
        "\n",
        "* By counting the number of line in our newdata in the code below, we can see that we have 5180048 night flights in our data\n",
        "* See the result of the code below\n"
      ]
    },
    {
      "cell_type": "code",
      "metadata": {
        "id": "6wteHCxx_2Fr",
        "outputId": "5a006bd2-b237-4d02-ad1a-140b39ce3ac7"
      },
      "source": [
        "# read the data\n",
        "data = sc.textFile('/datasets/airline/1994.csv')\n",
        "\n",
        "# extract information about scheduled departure time and carrier\n",
        "# note that the scheduled time must be convert from string to interger number\n",
        "def extract_CRSDepTime_Carier(line):\n",
        "    cols = line.split(\",\")\n",
        "    return (int(cols[5]), cols[8])\n",
        "\n",
        "header = data.first()\n",
        "\n",
        "# remove header\n",
        "data_without_header = data.filter(lambda line: line != header)\n",
        "\n",
        "# create a new RDD with only scheduled departure time and carrier information\n",
        "# cache it for later usage\n",
        "newdata = (\n",
        "            data_without_header\n",
        "               .map(extract_CRSDepTime_Carier)\n",
        "               .cache()\n",
        "          )\n",
        "\n",
        "print(newdata.count())"
      ],
      "execution_count": null,
      "outputs": [
        {
          "output_type": "stream",
          "text": [
            "5180048\n"
          ],
          "name": "stdout"
        }
      ]
    },
    {
      "cell_type": "markdown",
      "metadata": {
        "id": "jXAKHglC_2Fs"
      },
      "source": [
        "Function `filter` helps us select only the objects that satisfy a condition. In this case, it creates a new RDD by filtering out the header. We can also use it to select the night flights."
      ]
    },
    {
      "cell_type": "code",
      "metadata": {
        "id": "EGTdIr5t_2Fs",
        "outputId": "c2465a80-1bf7-4b61-cfd5-21f157ec1520"
      },
      "source": [
        "night_flights = newdata.filter(lambda f: f[0] > 1800).cache()\n",
        "night_flights.take(3)"
      ],
      "execution_count": null,
      "outputs": [
        {
          "output_type": "execute_result",
          "data": {
            "text/plain": [
              "[(2030, 'US'), (2030, 'US'), (2030, 'US')]"
            ]
          },
          "metadata": {
            "tags": []
          },
          "execution_count": 24
        }
      ]
    },
    {
      "cell_type": "markdown",
      "metadata": {
        "id": "DjKawuxF_2Fs"
      },
      "source": [
        "We use `cache` because we don't want to recalculate `night_flights` from the beginning every time of using it."
      ]
    },
    {
      "cell_type": "code",
      "metadata": {
        "id": "UhPFYo1n_2Fs",
        "outputId": "669fdbd2-07ce-49a5-c37c-7ff35ed95763"
      },
      "source": [
        "# filter and count the night flights\n",
        "num_night_flights = night_flights.count()\n",
        "print(num_night_flights)"
      ],
      "execution_count": null,
      "outputs": [
        {
          "output_type": "stream",
          "text": [
            "1078203\n"
          ],
          "name": "stdout"
        }
      ]
    },
    {
      "cell_type": "code",
      "metadata": {
        "id": "8ymuLTvI_2Ft",
        "outputId": "5dc1bb32-06b8-4d42-e4b5-d9948a720efe"
      },
      "source": [
        "# group by carrier\n",
        "night_flights_by_carrier = night_flights.groupBy(lambda x: x[1]).mapValues(lambda flights: len(flights))\n",
        "num_night_flights_by_carrier = night_flights_by_carrier.count()\n",
        "print(num_night_flights_by_carrier)\n",
        "# take top 5 carriers\n",
        "top5_carriers = night_flights_by_carrier.takeOrdered(5, key=lambda x: -x[1])\n",
        "\n",
        "print(top5_carriers)"
      ],
      "execution_count": null,
      "outputs": [
        {
          "output_type": "stream",
          "text": [
            "10\n",
            "[('DL', 208224), ('US', 170397), ('AA', 142832), ('WN', 124024), ('UA', 113640)]\n"
          ],
          "name": "stdout"
        }
      ]
    },
    {
      "cell_type": "markdown",
      "metadata": {
        "id": "GAQsFe4v_2Ft"
      },
      "source": [
        "We use `groupBy` to cluster flights which belong to the same carrier into a group. In this example, to select the top-5 carriers, we use a method based on the function `takeOrder`. This function takes the top-`k` objects ordered by an index: the trick is that we instruct it to use the cumulative counts as the key.\n",
        "\n",
        "Let's plot a bar chart using Matplotlib. To draw a bar chart, we use function `bar` which requires two parameters. Each parameter is a list of float values in each dimension."
      ]
    },
    {
      "cell_type": "code",
      "metadata": {
        "id": "ESQ2Okmb_2Ft",
        "outputId": "cfc34e59-0bc2-477a-811e-d7168fb3e44f"
      },
      "source": [
        "%matplotlib inline\n",
        "import matplotlib.pyplot as plt\n",
        "\n",
        "# extract the number of flights which will be used as y-values\n",
        "num_flights = [ x[1] for x in top5_carriers]\n",
        "\n",
        "# extract the carriers' names\n",
        "carrier_names = [x[0] for x in top5_carriers]\n",
        "\n",
        "# create `virtual indexes for carriers which will be used as x-values`\n",
        "carrier_indexes = range(0, len(carrier_names))\n",
        "\n",
        "# plot\n",
        "plt.bar(carrier_indexes, num_flights, align=\"center\")\n",
        "\n",
        "# put x-labels for the plot\n",
        "plt.xticks(carrier_indexes, carrier_names)\n",
        "plt.show()"
      ],
      "execution_count": null,
      "outputs": [
        {
          "output_type": "display_data",
          "data": {
            "image/png": "[encoded data removed]",
            "text/plain": [
              "<Figure size 432x288 with 1 Axes>"
            ]
          },
          "metadata": {
            "tags": []
          }
        }
      ]
    },
    {
      "cell_type": "markdown",
      "metadata": {
        "id": "ok_R_2Bc_2Ft"
      },
      "source": [
        "## Question 5\n",
        "\n",
        "\n",
        "### Question 5.1\n",
        "<div class=\"alert alert-info\">\n",
        "Compute how many flights have a scheduled departure time later than 09:00 and before 14:00.\n",
        "</div>"
      ]
    },
    {
      "cell_type": "code",
      "metadata": {
        "id": "tsf6VaHB_2Fu",
        "outputId": "4a85ebcf-c8d0-46c2-e543-7704ced21fc4"
      },
      "source": [
        "\n",
        "# read the data\n",
        "data = sc.textFile('/datasets/airline/1994.csv')\n",
        "\n",
        "# extract information about scheduled departure time and carrier\n",
        "# note that the scheduled time must be convert from string to interger number\n",
        "def extract_CRSDepTime_Carier(line):\n",
        "    cols = line.split(\",\")\n",
        "    return (int(cols[5]), cols[16])\n",
        "\n",
        "header = data.first()\n",
        "\n",
        "# remove header\n",
        "data_without_header = data.filter(lambda line: line != header)\n",
        "\n",
        "# create RDD with only scheduled departure time and carrier information\n",
        "# cache it for later usages\n",
        "newdata = (\n",
        "            data_without_header\n",
        "               .map(extract_CRSDepTime_Carier)\n",
        "               .cache()\n",
        "          )\n",
        "\n",
        "flights = newdata.filter(lambda f: 900 < f[0] < 1400 ).cache()\n",
        "\n",
        "print(flights.count())"
      ],
      "execution_count": null,
      "outputs": [
        {
          "output_type": "stream",
          "text": [
            "1625828\n"
          ],
          "name": "stdout"
        }
      ]
    },
    {
      "cell_type": "markdown",
      "metadata": {
        "id": "laY_miXQ_2Fu"
      },
      "source": [
        "### Answer:\n",
        "* The number of scheduled departure time that time later than 09:00 and before 14:00 are 1625828"
      ]
    },
    {
      "cell_type": "markdown",
      "metadata": {
        "id": "w-gZuebi_2Fu"
      },
      "source": [
        "### Question 5.2\n",
        "<div class=\"alert alert-info\">\n",
        "Compute the cumulative number flights that have a scheduled departure time after 09:00 and before 14:00, for each source airport (origin). Plot the top-5 of such airports.\n",
        "</div>"
      ]
    },
    {
      "cell_type": "code",
      "metadata": {
        "id": "ypd-uDh-_2Fv",
        "outputId": "d1c076bd-7436-49f6-fb0b-428d904c98e4"
      },
      "source": [
        "\n",
        "\n",
        "flights_per_carrier = flights.groupBy(lambda x: x[1]).mapValues(lambda flights: len(flights))\n",
        "\n",
        "# take top 5 source airports\n",
        "top5_source_airport = flights_per_carrier.takeOrdered(5, key=lambda x: -x[1])\n",
        "\n",
        "print(top5_source_airport)\n",
        "\n",
        "'''\n",
        "%matplotlib inline\n",
        "import matplotlib.pyplot as plt\n",
        "\n",
        "# extract the number of flights which will be used as y-values\n",
        "num_flights = [ x[1] for x in top5_carriers]\n",
        "\n",
        "# extract the carriers' names\n",
        "carrier_names = [x[0] for x in top5_carriers]\n",
        "\n",
        "# create `virtual indexes for carriers which will be used as x-values`\n",
        "carrier_indexes = range(0, len(carrier_names))\n",
        "\n",
        "# plot\n",
        "plt.bar(carrier_indexes, num_flights, align=\"center\")\n",
        "\n",
        "# put x-labels for the plot\n",
        "plt.xticks(carrier_indexes, carrier_names)\n",
        "plt.show()\n",
        "'''\n",
        "\n",
        "\n",
        "%matplotlib inline\n",
        "import matplotlib.pyplot as plt\n",
        "\n",
        "# extract the number of flights which will be used as y-values\n",
        "# This is called list comprehension\n",
        "num_flights = [ x[1] for x in top5_source_airport]\n",
        "\n",
        "# create `virtual indexes for carriers which will be used as x-values`\n",
        "airport_indexes = range(0, len(top5_source_airport))\n",
        "\n",
        "# plot\n",
        "plt.bar(airport_indexes, num_flights, align=\"center\")\n",
        "\n",
        "# extract the carriers' names\n",
        "airport_names = [ x[0] for x in top5_source_airport]\n",
        "\n",
        "# put x-labels for the plot\n",
        "plt.xticks(airport_indexes, airport_names)\n",
        "plt.show()\n",
        "\n",
        "\n"
      ],
      "execution_count": null,
      "outputs": [
        {
          "output_type": "stream",
          "text": [
            "[('ORD', 92252), ('DFW', 81338), ('ATL', 75077), ('STL', 54937), ('DTW', 51726)]\n"
          ],
          "name": "stdout"
        },
        {
          "output_type": "display_data",
          "data": {
            "image/png": "[encoded data removed]",
            "text/plain": [
              "<Figure size 432x288 with 1 Axes>"
            ]
          },
          "metadata": {
            "tags": []
          }
        }
      ]
    },
    {
      "cell_type": "markdown",
      "metadata": {
        "id": "teYswTFk_2Fv"
      },
      "source": [
        "# Summary\n",
        "\n",
        "In this lecture, we gained familiarity with the Jupyter Notebook environment, the Python programming language and its modules. In particular, we covered the Python syntax, Numpy - the core library for scientific computing, Matplotlib - a module to plot graphs, Pandas - a data analysis module. Besides, we started to gain practical experience with PySpark, using, for the moment, small data sets."
      ]
    },
    {
      "cell_type": "markdown",
      "metadata": {
        "id": "KRwFuC6U_2Fv"
      },
      "source": [
        "# References\n",
        "This notebook is inspired from:\n",
        "\n",
        "- [Python Numpy tutorial](http://cs231n.github.io/python-numpy-tutorial/)"
      ]
    }
  ]
}